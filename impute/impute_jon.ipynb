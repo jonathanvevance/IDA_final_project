{
 "metadata": {
  "language_info": {
   "codemirror_mode": {
    "name": "ipython",
    "version": 3
   },
   "file_extension": ".py",
   "mimetype": "text/x-python",
   "name": "python",
   "nbconvert_exporter": "python",
   "pygments_lexer": "ipython3",
   "version": "3.6.12-final"
  },
  "orig_nbformat": 2,
  "kernelspec": {
   "name": "Python 3.6.12 64-bit ('ida': conda)",
   "display_name": "Python 3.6.12 64-bit ('ida': conda)",
   "metadata": {
    "interpreter": {
     "hash": "9cd22cbb86bae9e4c107d859ef49e5087e5648fe86073b00e52d00ec199e64e6"
    }
   }
  }
 },
 "nbformat": 4,
 "nbformat_minor": 2,
 "cells": [
  {
   "cell_type": "code",
   "execution_count": 1,
   "metadata": {},
   "outputs": [],
   "source": [
    "import numpy as np\n",
    "import pandas as pd\n",
    "from impyute.imputation.cs import mice              # https://impyute.readthedocs.io/en/latest/_modules/impyute/imputation/cs/mice.html\n",
    "from sklearn.impute import SimpleImputer            # https://scikit-learn.org/stable/modules/generated/sklearn.impute.SimpleImputer.html\n",
    "from sklearn.preprocessing import StandardScaler\n",
    "from sklearn.linear_model import LinearRegression\n"
   ]
  },
  {
   "source": [
    "## Basic preprocessing"
   ],
   "cell_type": "markdown",
   "metadata": {}
  },
  {
   "cell_type": "code",
   "execution_count": 2,
   "metadata": {},
   "outputs": [],
   "source": [
    "def basic_clean(X, y):\n",
    "    \n",
    "    # remove y NaNs\n",
    "    drop_indices = np.where(y.isna())[0] + 1\n",
    "    \n",
    "    X = X.drop(drop_indices, axis = 0).reset_index(drop = True)\n",
    "    y = y.drop(drop_indices, axis = 0).reset_index(drop = True)\n",
    "\n",
    "    # get class indices\n",
    "    pos_idx = y.loc[y['Label'] == 1].index\n",
    "    neg_idx = y.loc[y['Label'] == 0].index\n",
    "\n",
    "    pos_loan = X.loc[pos_idx]['Loan_type'].mode()[0]\n",
    "    neg_loan = X.loc[neg_idx]['Loan_type'].mode()[0]\n",
    "\n",
    "    X_pos = X.loc[pos_idx]\n",
    "    X_pos['Loan_type'] = X_pos['Loan_type'].fillna(pos_loan)\n",
    "\n",
    "    X_neg = X.loc[neg_idx]\n",
    "    X_neg['Loan_type'] = X_neg['Loan_type'].fillna(neg_loan)\n",
    "\n",
    "    X = pd.concat([X_pos, X_neg], sort = False).sort_index()\n",
    "    X['Loan_type'] = X['Loan_type'].map({'A': 1, 'B': 0}, na_action = 'ignore')\n",
    "\n",
    "    # occupation is imputed with class conditional mode\n",
    "    pos_occ = X.loc[pos_idx]['Occupation_type'].mode()[0]\n",
    "    neg_occ = X.loc[neg_idx]['Occupation_type'].mode()[0]\n",
    "\n",
    "    # occ_type = X.pop('Occupation_type')\n",
    "    X_pos = X.loc[pos_idx]\n",
    "    X_pos['Occupation_type'] = X_pos['Occupation_type'].fillna(pos_occ)\n",
    "\n",
    "    X_neg = X.loc[neg_idx]\n",
    "    X_neg['Occupation_type'] = X_neg['Occupation_type'].fillna(neg_occ)\n",
    "\n",
    "    X = pd.concat([X_pos, X_neg], sort = False).sort_index()\n",
    "    occ_type = pd.get_dummies(X['Occupation_type'])\n",
    "    X = pd.concat([X, occ_type], axis = 1)\n",
    "    X = X.drop('Occupation_type', axis = 1)\n",
    "\n",
    "    scaler = StandardScaler()\n",
    "    col_names = X.columns\n",
    "    X = pd.DataFrame(scaler.fit_transform(X), columns = col_names)\n",
    "\n",
    "    return X, y\n"
   ]
  },
  {
   "cell_type": "code",
   "execution_count": null,
   "metadata": {},
   "outputs": [],
   "source": []
  },
  {
   "source": [
    "## Class conditional wrapper"
   ],
   "cell_type": "markdown",
   "metadata": {}
  },
  {
   "cell_type": "code",
   "execution_count": 5,
   "metadata": {},
   "outputs": [],
   "source": [
    "def class_conditional(imputer, X, y):\n",
    "    \n",
    "    assert isinstance(X, pd.DataFrame)\n",
    "    pos_idx = y.loc[y['Label'] == 1].index\n",
    "    neg_idx = y.loc[y['Label'] == 0].index\n",
    "\n",
    "    col_names = X.columns\n",
    "    X_pos = X.loc[pos_idx]\n",
    "    X_neg = X.loc[neg_idx]\n",
    "\n",
    "    X_pos = imputer(X_pos)\n",
    "    X_neg = imputer(X_neg)\n",
    "\n",
    "    if not isinstance(X_pos, pd.DataFrame):\n",
    "        X_pos = pd.DataFrame(X_pos, columns = col_names)\n",
    "        X_neg = pd.DataFrame(X_neg, columns = col_names)\n",
    "    return pd.concat([X_pos, X_neg], sort = False).sort_index()"
   ]
  },
  {
   "cell_type": "code",
   "execution_count": null,
   "metadata": {},
   "outputs": [],
   "source": []
  },
  {
   "source": [
    "## Single Imputation"
   ],
   "cell_type": "markdown",
   "metadata": {}
  },
  {
   "cell_type": "code",
   "execution_count": 6,
   "metadata": {},
   "outputs": [],
   "source": [
    "def num_imputer(X, strategy = 'mean'):\n",
    "    \"\"\"\n",
    "    1. strategy (string) : use 'mean' or 'median'\n",
    "    2. read documentation of SimpleImputer for methods\n",
    "    \"\"\"\n",
    "    assert isinstance(X, pd.DataFrame)\n",
    "    imp_numeric = SimpleImputer(missing_values = np.nan, strategy = strategy)\n",
    "    return imp_numeric.fit_transform(X)\n",
    "    "
   ]
  },
  {
   "cell_type": "code",
   "execution_count": null,
   "metadata": {},
   "outputs": [],
   "source": []
  },
  {
   "source": [
    "## Simple Random Imputation"
   ],
   "cell_type": "markdown",
   "metadata": {}
  },
  {
   "cell_type": "code",
   "execution_count": 7,
   "metadata": {},
   "outputs": [],
   "source": [
    "def random_imputation(X, random_state = 42):\n",
    "    \"\"\"\n",
    "    1. Imputes using random entries from the same column\n",
    "    \"\"\"\n",
    "    assert isinstance(X, pd.DataFrame)\n",
    "    missing_columns = X.columns[X.isnull().any()]\n",
    "    np.random.seed(random_state)\n",
    "    \n",
    "    df = X.copy()\n",
    "    for feature in missing_columns:\n",
    "        number_missing = df[feature].isnull().sum()\n",
    "        observed_values = df.loc[df[feature].notnull(), feature]\n",
    "        df.loc[df[feature].isnull(), feature] = np.random.choice(observed_values, number_missing, replace = True)  \n",
    "    \n",
    "    return df"
   ]
  },
  {
   "source": [
    "## MICE"
   ],
   "cell_type": "markdown",
   "metadata": {}
  },
  {
   "source": [
    "def mice_imputer(X):\n",
    "    \"\"\"\n",
    "    1. this will 5-10 minutes to finish imputing\n",
    "    \"\"\"\n",
    "    assert isinstance(X, pd.DataFrame)\n",
    "    col_names = X.columns \n",
    "    return pd.DataFrame(mice(X.values), columns = col_names)\n"
   ],
   "cell_type": "code",
   "metadata": {},
   "execution_count": 9,
   "outputs": []
  },
  {
   "cell_type": "code",
   "execution_count": null,
   "metadata": {},
   "outputs": [],
   "source": []
  },
  {
   "source": [
    "## Stochastic Regression Imputation"
   ],
   "cell_type": "markdown",
   "metadata": {}
  },
  {
   "cell_type": "code",
   "execution_count": 10,
   "metadata": {},
   "outputs": [],
   "source": [
    "def stochastic_regr_imputer(X):\n",
    "\n",
    "    df = X.copy()\n",
    "    X_rand = random_imputation(X)\n",
    "    missing_columns = df.columns[df.isnull().any()]\n",
    "\n",
    "    for feature in missing_columns:\n",
    "            \n",
    "        parameters = list(set(df.columns) - {feature})\n",
    "        model = LinearRegression()\n",
    "        model.fit(X = X_rand[parameters], y = X_rand[feature])\n",
    "        \n",
    "        #Standard Error of the regression estimates is equal to std() of the errors of each estimates\n",
    "        predict = model.predict(X_rand[parameters])\n",
    "        std_error = (predict[df[feature].notnull()] - X_rand.loc[df[feature].notnull(), feature]).std()\n",
    "        \n",
    "        random_predict = np.random.normal(size = df[feature].shape[0], \n",
    "                                          loc = predict, \n",
    "                                          scale = std_error)\n",
    "        df.loc[(df[feature].isnull()), feature] = random_predict[(df[feature].isnull())]\n",
    "\n",
    "    return df\n"
   ]
  },
  {
   "cell_type": "code",
   "execution_count": null,
   "metadata": {},
   "outputs": [],
   "source": []
  }
 ]
}