{
 "metadata": {
  "language_info": {
   "codemirror_mode": {
    "name": "ipython",
    "version": 3
   },
   "file_extension": ".py",
   "mimetype": "text/x-python",
   "name": "python",
   "nbconvert_exporter": "python",
   "pygments_lexer": "ipython3",
   "version": "3.8.3-final"
  },
  "orig_nbformat": 2,
  "kernelspec": {
   "name": "dl",
   "display_name": "Python (DL)"
  }
 },
 "nbformat": 4,
 "nbformat_minor": 2,
 "cells": [
  {
   "cell_type": "code",
   "execution_count": 1,
   "metadata": {},
   "outputs": [],
   "source": [
    "import numpy as np\n",
    "import pandas as pd"
   ]
  },
  {
   "source": [
    "## Basic preprocessing"
   ],
   "cell_type": "markdown",
   "metadata": {}
  },
  {
   "cell_type": "code",
   "execution_count": 20,
   "metadata": {},
   "outputs": [],
   "source": [
    "names = (['ID', 'Expense', 'Income', 'Loan_type', 'Occupation_type', \n",
    "         'Age', 'Score1', 'Score2', 'Score3', 'Score4', 'Score5'])\n",
    "\n",
    "X = pd.read_csv('dataset/train_x.csv', index_col = 'ID', names = names, skiprows = 1)\n",
    "y = pd.read_csv('dataset/train_y.csv', index_col = 'ID') "
   ]
  },
  {
   "cell_type": "code",
   "execution_count": 21,
   "metadata": {},
   "outputs": [],
   "source": [
    "# remove y NaNs\n",
    "drop_indices = np.where(y.isna())[0] + 1\n",
    "X = X.drop(drop_indices, axis = 0).reset_index(drop = True)\n",
    "y = y.drop(drop_indices, axis = 0).reset_index(drop = True)"
   ]
  },
  {
   "cell_type": "code",
   "execution_count": 22,
   "metadata": {},
   "outputs": [],
   "source": [
    "# get class indices\n",
    "pos_idx = y.loc[y['Label'] == 1].index\n",
    "neg_idx = y.loc[y['Label'] == 0].index"
   ]
  },
  {
   "cell_type": "code",
   "execution_count": 23,
   "metadata": {},
   "outputs": [],
   "source": [
    "pos_loan = X.loc[pos_idx]['Loan_type'].mode()[0]\n",
    "neg_loan = X.loc[neg_idx]['Loan_type'].mode()[0]"
   ]
  },
  {
   "cell_type": "code",
   "execution_count": 24,
   "metadata": {},
   "outputs": [],
   "source": [
    "X_pos = X.loc[pos_idx]\n",
    "X_pos['Loan_type'] = X_pos['Loan_type'].fillna(pos_loan)\n",
    "\n",
    "X_neg = X.loc[neg_idx]\n",
    "X_neg['Loan_type'] = X_neg['Loan_type'].fillna(neg_loan)\n",
    "\n",
    "X = pd.concat([X_pos, X_neg], sort = False).sort_index()\n",
    "X['Loan_type'] = X['Loan_type'].map({'A': 1, 'B': 0}, na_action = 'ignore')"
   ]
  },
  {
   "cell_type": "code",
   "execution_count": 25,
   "metadata": {},
   "outputs": [],
   "source": [
    "# occupation is imputed with class conditional mode\n",
    "pos_occ = X.loc[pos_idx]['Occupation_type'].mode()[0]\n",
    "neg_occ = X.loc[neg_idx]['Occupation_type'].mode()[0]"
   ]
  },
  {
   "cell_type": "code",
   "execution_count": 26,
   "metadata": {},
   "outputs": [],
   "source": [
    "# occ_type = X.pop('Occupation_type')\n",
    "X_pos = X.loc[pos_idx]\n",
    "X_pos['Occupation_type'] = X_pos['Occupation_type'].fillna(pos_occ)\n",
    "\n",
    "X_neg = X.loc[neg_idx]\n",
    "X_neg['Occupation_type'] = X_neg['Occupation_type'].fillna(neg_occ)\n",
    "\n",
    "X = pd.concat([X_pos, X_neg], sort = False).sort_index()\n",
    "occ_type = pd.get_dummies(X['Occupation_type'])\n",
    "X = pd.concat([X, occ_type], axis = 1)\n",
    "X = X.drop('Occupation_type', axis = 1)"
   ]
  },
  {
   "source": [
    "from sklearn.preprocessing import StandardScaler\n",
    "scaler = StandardScaler()\n",
    "col_names = X.columns\n",
    "X = pd.DataFrame(scaler.fit_transform(X), columns = col_names)"
   ],
   "cell_type": "code",
   "metadata": {},
   "execution_count": 27,
   "outputs": []
  },
  {
   "cell_type": "code",
   "execution_count": null,
   "metadata": {},
   "outputs": [],
   "source": []
  },
  {
   "source": [
    "## Class conditional wrapper"
   ],
   "cell_type": "markdown",
   "metadata": {}
  },
  {
   "cell_type": "code",
   "execution_count": 28,
   "metadata": {},
   "outputs": [],
   "source": [
    "def class_conditional(imputer, X, y):\n",
    "    \n",
    "    pos_idx = y.loc[y['Label'] == 1].index\n",
    "    neg_idx = y.loc[y['Label'] == 0].index\n",
    "\n",
    "    X_pos = X.loc[pos_idx]\n",
    "    X_neg = X.loc[neg_idx]\n",
    "\n",
    "    X_pos = imputer(X_pos)\n",
    "    X_neg = imputer(X_neg)\n",
    "    return pd.concat([X_pos, X_neg], sort = False).sort_index()"
   ]
  },
  {
   "cell_type": "code",
   "execution_count": null,
   "metadata": {},
   "outputs": [],
   "source": []
  },
  {
   "source": [
    "## Single Imputation"
   ],
   "cell_type": "markdown",
   "metadata": {}
  },
  {
   "cell_type": "code",
   "execution_count": 29,
   "metadata": {},
   "outputs": [],
   "source": [
    "from sklearn.impute import SimpleImputer\n",
    "# https://scikit-learn.org/stable/modules/generated/sklearn.impute.SimpleImputer.html\n",
    "\n",
    "def num_imputer(X, strategy):\n",
    "    \"\"\"\n",
    "    1. strategy (string) : use 'mean' or 'median'\n",
    "    2. read documentation of SimpleImputer for methods\n",
    "    \"\"\"\n",
    "    imp_numeric = SimpleImputer(missing_values = np.nan, strategy = strategy)\n",
    "    return imp_numeric.fit_transform(X)\n",
    "    "
   ]
  },
  {
   "cell_type": "code",
   "execution_count": 30,
   "metadata": {},
   "outputs": [],
   "source": [
    "X_mean = num_imputer(X, 'mean')\n",
    "X_mean = pd.DataFrame(X_mean, columns = X.columns)"
   ]
  },
  {
   "cell_type": "code",
   "execution_count": 31,
   "metadata": {},
   "outputs": [
    {
     "output_type": "stream",
     "name": "stdout",
     "text": [
      "<class 'pandas.core.frame.DataFrame'>\nRangeIndex: 76097 entries, 0 to 76096\nData columns (total 12 columns):\n #   Column     Non-Null Count  Dtype  \n---  ------     --------------  -----  \n 0   Expense    76097 non-null  float64\n 1   Income     76097 non-null  float64\n 2   Loan_type  76097 non-null  float64\n 3   Age        76097 non-null  float64\n 4   Score1     76097 non-null  float64\n 5   Score2     76097 non-null  float64\n 6   Score3     76097 non-null  float64\n 7   Score4     76097 non-null  float64\n 8   Score5     76097 non-null  float64\n 9   X          76097 non-null  float64\n 10  Y          76097 non-null  float64\n 11  Z          76097 non-null  float64\ndtypes: float64(12)\nmemory usage: 7.0 MB\n"
     ]
    }
   ],
   "source": [
    "X_mean.info()"
   ]
  },
  {
   "source": [
    "## Simple Random Imputation"
   ],
   "cell_type": "markdown",
   "metadata": {}
  },
  {
   "cell_type": "code",
   "execution_count": 50,
   "metadata": {},
   "outputs": [],
   "source": [
    "def random_imputation(X, random_state = 42):\n",
    "    \"\"\"\n",
    "    1. Imputes using random entries from the same column\n",
    "    \"\"\"\n",
    "    df = X.copy()\n",
    "    missing_columns = X.columns[X.isnull().any()]\n",
    "    np.random.seed(random_state)\n",
    "    \n",
    "    for feature in missing_columns:\n",
    "        number_missing = df[feature].isnull().sum()\n",
    "        observed_values = df.loc[df[feature].notnull(), feature]\n",
    "        df.loc[df[feature].isnull(), feature] = np.random.choice(observed_values, number_missing, replace = True)  \n",
    "    \n",
    "    return df"
   ]
  },
  {
   "cell_type": "code",
   "execution_count": 41,
   "metadata": {},
   "outputs": [],
   "source": [
    "X_rand = random_imputation(X)"
   ]
  },
  {
   "cell_type": "code",
   "execution_count": 42,
   "metadata": {},
   "outputs": [
    {
     "output_type": "stream",
     "name": "stdout",
     "text": [
      "<class 'pandas.core.frame.DataFrame'>\nRangeIndex: 76097 entries, 0 to 76096\nData columns (total 12 columns):\n #   Column     Non-Null Count  Dtype  \n---  ------     --------------  -----  \n 0   Expense    76097 non-null  float64\n 1   Income     76097 non-null  float64\n 2   Loan_type  76097 non-null  float64\n 3   Age        76097 non-null  float64\n 4   Score1     76097 non-null  float64\n 5   Score2     76097 non-null  float64\n 6   Score3     76097 non-null  float64\n 7   Score4     76097 non-null  float64\n 8   Score5     76097 non-null  float64\n 9   X          76097 non-null  float64\n 10  Y          76097 non-null  float64\n 11  Z          76097 non-null  float64\ndtypes: float64(12)\nmemory usage: 7.0 MB\n"
     ]
    }
   ],
   "source": [
    "X_rand.info()"
   ]
  },
  {
   "source": [
    "## MICE"
   ],
   "cell_type": "markdown",
   "metadata": {}
  },
  {
   "source": [
    "from impyute.imputation.cs import mice\n",
    "# https://impyute.readthedocs.io/en/latest/_modules/impyute/imputation/cs/mice.html\n",
    "\n",
    "def mice_imputer(X):\n",
    "    \"\"\"\n",
    "    1. this will 5-10 minutes to finish imputing\n",
    "    \"\"\"\n",
    "    return mice(X.values)\n",
    "\n",
    "X_mice = mice_imputer(X)\n",
    "X_mice = pd.DataFrame(X_mice, columns = col_names)\n"
   ],
   "cell_type": "code",
   "metadata": {},
   "execution_count": null,
   "outputs": []
  },
  {
   "source": [
    "X_mice.info()"
   ],
   "cell_type": "code",
   "metadata": {},
   "execution_count": null,
   "outputs": []
  },
  {
   "cell_type": "code",
   "execution_count": null,
   "metadata": {},
   "outputs": [],
   "source": []
  },
  {
   "source": [
    "## Stochastic Regression Imputation"
   ],
   "cell_type": "markdown",
   "metadata": {}
  },
  {
   "cell_type": "code",
   "execution_count": 46,
   "metadata": {},
   "outputs": [
    {
     "output_type": "execute_result",
     "data": {
      "text/plain": [
       "    Expense    Income  Loan_type       Age    Score1    Score2    Score3  \\\n",
       "0  0.727616 -0.820197  -1.084838  1.125771 -1.380902  0.459216  1.500287   \n",
       "1 -0.665859 -0.346448  -1.084838 -0.888280  0.426981  0.076698 -0.458134   \n",
       "2 -1.343496  1.727059   0.921796 -0.888280  0.212984 -0.299051 -1.188483   \n",
       "3       NaN  0.577993   0.921796 -0.888280  0.940929 -0.029602 -0.273081   \n",
       "4  0.327570  0.633001  -1.084838  1.125771       NaN  1.119919  0.211237   \n",
       "\n",
       "     Score4    Score5         X         Y         Z  \n",
       "0  0.134148  0.727577 -0.520531  1.034376 -0.660433  \n",
       "1  0.128304 -0.665198 -0.520531  1.034376 -0.660433  \n",
       "2 -0.469986 -1.342495 -0.520531  1.034376 -0.660433  \n",
       "3  0.535119 -0.395711 -0.520531  1.034376 -0.660433  \n",
       "4  1.448825  0.327732  1.921116 -0.966766 -0.660433  "
      ],
      "text/html": "<div>\n<style scoped>\n    .dataframe tbody tr th:only-of-type {\n        vertical-align: middle;\n    }\n\n    .dataframe tbody tr th {\n        vertical-align: top;\n    }\n\n    .dataframe thead th {\n        text-align: right;\n    }\n</style>\n<table border=\"1\" class=\"dataframe\">\n  <thead>\n    <tr style=\"text-align: right;\">\n      <th></th>\n      <th>Expense</th>\n      <th>Income</th>\n      <th>Loan_type</th>\n      <th>Age</th>\n      <th>Score1</th>\n      <th>Score2</th>\n      <th>Score3</th>\n      <th>Score4</th>\n      <th>Score5</th>\n      <th>X</th>\n      <th>Y</th>\n      <th>Z</th>\n    </tr>\n  </thead>\n  <tbody>\n    <tr>\n      <th>0</th>\n      <td>0.727616</td>\n      <td>-0.820197</td>\n      <td>-1.084838</td>\n      <td>1.125771</td>\n      <td>-1.380902</td>\n      <td>0.459216</td>\n      <td>1.500287</td>\n      <td>0.134148</td>\n      <td>0.727577</td>\n      <td>-0.520531</td>\n      <td>1.034376</td>\n      <td>-0.660433</td>\n    </tr>\n    <tr>\n      <th>1</th>\n      <td>-0.665859</td>\n      <td>-0.346448</td>\n      <td>-1.084838</td>\n      <td>-0.888280</td>\n      <td>0.426981</td>\n      <td>0.076698</td>\n      <td>-0.458134</td>\n      <td>0.128304</td>\n      <td>-0.665198</td>\n      <td>-0.520531</td>\n      <td>1.034376</td>\n      <td>-0.660433</td>\n    </tr>\n    <tr>\n      <th>2</th>\n      <td>-1.343496</td>\n      <td>1.727059</td>\n      <td>0.921796</td>\n      <td>-0.888280</td>\n      <td>0.212984</td>\n      <td>-0.299051</td>\n      <td>-1.188483</td>\n      <td>-0.469986</td>\n      <td>-1.342495</td>\n      <td>-0.520531</td>\n      <td>1.034376</td>\n      <td>-0.660433</td>\n    </tr>\n    <tr>\n      <th>3</th>\n      <td>NaN</td>\n      <td>0.577993</td>\n      <td>0.921796</td>\n      <td>-0.888280</td>\n      <td>0.940929</td>\n      <td>-0.029602</td>\n      <td>-0.273081</td>\n      <td>0.535119</td>\n      <td>-0.395711</td>\n      <td>-0.520531</td>\n      <td>1.034376</td>\n      <td>-0.660433</td>\n    </tr>\n    <tr>\n      <th>4</th>\n      <td>0.327570</td>\n      <td>0.633001</td>\n      <td>-1.084838</td>\n      <td>1.125771</td>\n      <td>NaN</td>\n      <td>1.119919</td>\n      <td>0.211237</td>\n      <td>1.448825</td>\n      <td>0.327732</td>\n      <td>1.921116</td>\n      <td>-0.966766</td>\n      <td>-0.660433</td>\n    </tr>\n  </tbody>\n</table>\n</div>"
     },
     "metadata": {},
     "execution_count": 46
    }
   ],
   "source": [
    "X.head()"
   ]
  },
  {
   "cell_type": "code",
   "execution_count": 53,
   "metadata": {},
   "outputs": [],
   "source": [
    "from sklearn.linear_model import LinearRegression\n",
    "\n",
    "def stochastic_regr_imputer(X):\n",
    "\n",
    "    df = X.copy()\n",
    "    X_rand = random_imputation(X)\n",
    "    missing_columns = df.columns[df.isnull().any()]\n",
    "\n",
    "    for feature in missing_columns:\n",
    "            \n",
    "        parameters = list(set(df.columns) - {feature})\n",
    "        model = LinearRegression()\n",
    "        model.fit(X = X_rand[parameters], y = X_rand[feature])\n",
    "        \n",
    "        #Standard Error of the regression estimates is equal to std() of the errors of each estimates\n",
    "        predict = model.predict(X_rand[parameters])\n",
    "        std_error = (predict[df[feature].notnull()] - X_rand.loc[df[feature].notnull(), feature]).std()\n",
    "        \n",
    "        random_predict = np.random.normal(size = df[feature].shape[0], \n",
    "                                          loc = predict, \n",
    "                                          scale = std_error)\n",
    "        df.loc[(df[feature].isnull()), feature] = random_predict[(df[feature].isnull())]\n",
    "\n",
    "    return df\n"
   ]
  },
  {
   "cell_type": "code",
   "execution_count": 54,
   "metadata": {},
   "outputs": [],
   "source": [
    "X_stoch = stochastic_regr_imputer(X)"
   ]
  },
  {
   "cell_type": "code",
   "execution_count": 55,
   "metadata": {},
   "outputs": [
    {
     "output_type": "stream",
     "name": "stdout",
     "text": [
      "<class 'pandas.core.frame.DataFrame'>\nRangeIndex: 76097 entries, 0 to 76096\nData columns (total 12 columns):\n #   Column     Non-Null Count  Dtype  \n---  ------     --------------  -----  \n 0   Expense    76097 non-null  float64\n 1   Income     76097 non-null  float64\n 2   Loan_type  76097 non-null  float64\n 3   Age        76097 non-null  float64\n 4   Score1     76097 non-null  float64\n 5   Score2     76097 non-null  float64\n 6   Score3     76097 non-null  float64\n 7   Score4     76097 non-null  float64\n 8   Score5     76097 non-null  float64\n 9   X          76097 non-null  float64\n 10  Y          76097 non-null  float64\n 11  Z          76097 non-null  float64\ndtypes: float64(12)\nmemory usage: 7.0 MB\n"
     ]
    }
   ],
   "source": [
    "X_stoch.info()"
   ]
  },
  {
   "cell_type": "code",
   "execution_count": null,
   "metadata": {},
   "outputs": [],
   "source": []
  }
 ]
}