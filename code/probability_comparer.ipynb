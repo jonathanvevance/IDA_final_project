{
 "cells": [
  {
   "cell_type": "code",
   "execution_count": 1,
   "metadata": {},
   "outputs": [],
   "source": [
    "# probability comparison file"
   ]
  },
  {
   "cell_type": "code",
   "execution_count": 2,
   "metadata": {},
   "outputs": [],
   "source": [
    "import pandas as pd\n",
    "import numpy as np"
   ]
  },
  {
   "cell_type": "code",
   "execution_count": 3,
   "metadata": {},
   "outputs": [],
   "source": [
    "ml_probs = pd.read_csv('ML_prob_predictions.csv', index_col=0)\n",
    "dl_probs = pd.read_csv('DL_prob_predictions.csv')"
   ]
  },
  {
   "cell_type": "code",
   "execution_count": 4,
   "metadata": {},
   "outputs": [],
   "source": [
    "def winner_decider(a, b):\n",
    "    if a>0.5:\n",
    "        a = a - 0.5\n",
    "    else:\n",
    "        a = 0.5 - a\n",
    "    if b>0.5:\n",
    "        b = b - 0.5\n",
    "    else:\n",
    "        b = 0.5 - b\n",
    "    if a > b: \n",
    "        return 0\n",
    "    else:\n",
    "        return 1"
   ]
  },
  {
   "cell_type": "code",
   "execution_count": 5,
   "metadata": {},
   "outputs": [],
   "source": [
    "final = []\n",
    "for i in range(len(ml_probs)):\n",
    "    a = dl_probs.iloc[i,0]\n",
    "    b = ml_probs.iloc[i,0]\n",
    "    if winner_decider(a, b) == 0:\n",
    "        final.append(round(a))\n",
    "    else:\n",
    "        final.append(round(b))"
   ]
  },
  {
   "cell_type": "code",
   "execution_count": 8,
   "metadata": {},
   "outputs": [],
   "source": [
    "final = pd.DataFrame(final)"
   ]
  },
  {
   "cell_type": "code",
   "execution_count": 9,
   "metadata": {},
   "outputs": [],
   "source": [
    "final.to_csv('Final_predictions.csv')"
   ]
  }
 ],
 "metadata": {
  "kernelspec": {
   "display_name": "Python 3",
   "language": "python",
   "name": "python3"
  },
  "language_info": {
   "codemirror_mode": {
    "name": "ipython",
    "version": 3
   },
   "file_extension": ".py",
   "mimetype": "text/x-python",
   "name": "python",
   "nbconvert_exporter": "python",
   "pygments_lexer": "ipython3",
   "version": "3.7.7"
  }
 },
 "nbformat": 4,
 "nbformat_minor": 4
}