{
 "metadata": {
  "language_info": {
   "codemirror_mode": {
    "name": "ipython",
    "version": 3
   },
   "file_extension": ".py",
   "mimetype": "text/x-python",
   "name": "python",
   "nbconvert_exporter": "python",
   "pygments_lexer": "ipython3",
   "version": "3.8.3-final"
  },
  "orig_nbformat": 2,
  "kernelspec": {
   "name": "dl",
   "display_name": "Python (DL)"
  }
 },
 "nbformat": 4,
 "nbformat_minor": 2,
 "cells": [
  {
   "cell_type": "code",
   "execution_count": 2,
   "metadata": {},
   "outputs": [],
   "source": [
    "import pandas as pd \n",
    "import numpy as np \n",
    "import sys\n",
    "from impyute.imputation.cs import fast_knn\n",
    "sys.setrecursionlimit(100000)\n",
    "from missingpy import MissForest\n",
    "from sklearn.preprocessing import LabelEncoder\n",
    "from impyute.imputation.cs import mice"
   ]
  },
  {
   "cell_type": "code",
   "execution_count": 3,
   "metadata": {},
   "outputs": [],
   "source": [
    "train_x =  pd.read_csv('train_x.csv')\n",
    "train_y = pd.read_csv('train_y.csv')\n",
    "test = pd.read_csv('test_x.csv')"
   ]
  },
  {
   "cell_type": "code",
   "execution_count": 4,
   "metadata": {},
   "outputs": [],
   "source": [
    "drop_indices = train_y[train_y['Label'].isnull()].index\n",
    "keep_indices = [i for i in train_x.index if i not in drop_indices]"
   ]
  },
  {
   "cell_type": "code",
   "execution_count": 7,
   "metadata": {},
   "outputs": [
    {
     "output_type": "execute_result",
     "data": {
      "text/plain": [
       "   ID      Expense       Income Loan type Occupation type  Age    Score1  \\\n",
       "0   1  1830.943788  14767.28013         B               Y  1.0  0.016885   \n",
       "1   2  1645.302546  15272.26775         B               Y  0.0  0.240375   \n",
       "2   3  1555.026392  17482.49734         A               Y  0.0  0.213921   \n",
       "3   4          NaN  16257.66493         A               Y  0.0  0.303909   \n",
       "4   5  1777.648916  16316.29914         B               X  1.0       NaN   \n",
       "\n",
       "       Score2     Score3      Score4       Score5  Label  \n",
       "0  205.196182  22.521523  600.911200  3464.613291    0.0  \n",
       "1  194.266317   5.349117  600.888816  3374.921455    0.0  \n",
       "2  183.529871  -1.054954  598.596944  3331.304886    0.0  \n",
       "3  191.228965   6.971750  602.447203  3392.275849    0.0  \n",
       "4  224.074728  11.218489  605.947340  3438.864083    0.0  "
      ],
      "text/html": "<div>\n<style scoped>\n    .dataframe tbody tr th:only-of-type {\n        vertical-align: middle;\n    }\n\n    .dataframe tbody tr th {\n        vertical-align: top;\n    }\n\n    .dataframe thead th {\n        text-align: right;\n    }\n</style>\n<table border=\"1\" class=\"dataframe\">\n  <thead>\n    <tr style=\"text-align: right;\">\n      <th></th>\n      <th>ID</th>\n      <th>Expense</th>\n      <th>Income</th>\n      <th>Loan type</th>\n      <th>Occupation type</th>\n      <th>Age</th>\n      <th>Score1</th>\n      <th>Score2</th>\n      <th>Score3</th>\n      <th>Score4</th>\n      <th>Score5</th>\n      <th>Label</th>\n    </tr>\n  </thead>\n  <tbody>\n    <tr>\n      <th>0</th>\n      <td>1</td>\n      <td>1830.943788</td>\n      <td>14767.28013</td>\n      <td>B</td>\n      <td>Y</td>\n      <td>1.0</td>\n      <td>0.016885</td>\n      <td>205.196182</td>\n      <td>22.521523</td>\n      <td>600.911200</td>\n      <td>3464.613291</td>\n      <td>0.0</td>\n    </tr>\n    <tr>\n      <th>1</th>\n      <td>2</td>\n      <td>1645.302546</td>\n      <td>15272.26775</td>\n      <td>B</td>\n      <td>Y</td>\n      <td>0.0</td>\n      <td>0.240375</td>\n      <td>194.266317</td>\n      <td>5.349117</td>\n      <td>600.888816</td>\n      <td>3374.921455</td>\n      <td>0.0</td>\n    </tr>\n    <tr>\n      <th>2</th>\n      <td>3</td>\n      <td>1555.026392</td>\n      <td>17482.49734</td>\n      <td>A</td>\n      <td>Y</td>\n      <td>0.0</td>\n      <td>0.213921</td>\n      <td>183.529871</td>\n      <td>-1.054954</td>\n      <td>598.596944</td>\n      <td>3331.304886</td>\n      <td>0.0</td>\n    </tr>\n    <tr>\n      <th>3</th>\n      <td>4</td>\n      <td>NaN</td>\n      <td>16257.66493</td>\n      <td>A</td>\n      <td>Y</td>\n      <td>0.0</td>\n      <td>0.303909</td>\n      <td>191.228965</td>\n      <td>6.971750</td>\n      <td>602.447203</td>\n      <td>3392.275849</td>\n      <td>0.0</td>\n    </tr>\n    <tr>\n      <th>4</th>\n      <td>5</td>\n      <td>1777.648916</td>\n      <td>16316.29914</td>\n      <td>B</td>\n      <td>X</td>\n      <td>1.0</td>\n      <td>NaN</td>\n      <td>224.074728</td>\n      <td>11.218489</td>\n      <td>605.947340</td>\n      <td>3438.864083</td>\n      <td>0.0</td>\n    </tr>\n  </tbody>\n</table>\n</div>"
     },
     "metadata": {},
     "execution_count": 7
    }
   ],
   "source": [
    "train = train_x\n",
    "train['Label'] = train_y['Label']\n",
    "train.head()"
   ]
  },
  {
   "cell_type": "code",
   "execution_count": 8,
   "metadata": {},
   "outputs": [
    {
     "output_type": "execute_result",
     "data": {
      "text/plain": [
       "(array(['B', 'A', nan], dtype=object),\n",
       " array(['Y', 'X', 'Z', nan], dtype=object))"
      ]
     },
     "metadata": {},
     "execution_count": 8
    }
   ],
   "source": [
    "train['Loan type'].unique(), train['Occupation type'].unique()"
   ]
  },
  {
   "cell_type": "code",
   "execution_count": 9,
   "metadata": {},
   "outputs": [],
   "source": [
    "for i in range(len(train)):\n",
    "    cell = train['Loan type'].iloc[i]\n",
    "    if cell == 'A':\n",
    "        train['Loan type'].iloc[i] = 0\n",
    "    elif cell == 'B':\n",
    "        train['Loan type'].iloc[i] = 1"
   ]
  },
  {
   "cell_type": "code",
   "execution_count": 10,
   "metadata": {},
   "outputs": [],
   "source": [
    "for i in range(len(train)):\n",
    "    cell = train['Occupation type'].iloc[i]\n",
    "    if cell == 'X':\n",
    "        train['Occupation type'].iloc[i] = 0\n",
    "    elif cell == 'Y':\n",
    "        train['Occupation type'].iloc[i] = 1\n",
    "    elif cell == 'Z':\n",
    "        train['Occupation type'].iloc[i] = 2"
   ]
  },
  {
   "cell_type": "code",
   "execution_count": 11,
   "metadata": {},
   "outputs": [
    {
     "output_type": "execute_result",
     "data": {
      "text/plain": [
       "   ID      Expense       Income Loan type Occupation type  Age    Score1  \\\n",
       "0   1  1830.943788  14767.28013         1               1  1.0  0.016885   \n",
       "1   2  1645.302546  15272.26775         1               1  0.0  0.240375   \n",
       "2   3  1555.026392  17482.49734         0               1  0.0  0.213921   \n",
       "3   4          NaN  16257.66493         0               1  0.0  0.303909   \n",
       "4   5  1777.648916  16316.29914         1               0  1.0       NaN   \n",
       "\n",
       "       Score2     Score3      Score4       Score5  Label  \n",
       "0  205.196182  22.521523  600.911200  3464.613291    0.0  \n",
       "1  194.266317   5.349117  600.888816  3374.921455    0.0  \n",
       "2  183.529871  -1.054954  598.596944  3331.304886    0.0  \n",
       "3  191.228965   6.971750  602.447203  3392.275849    0.0  \n",
       "4  224.074728  11.218489  605.947340  3438.864083    0.0  "
      ],
      "text/html": "<div>\n<style scoped>\n    .dataframe tbody tr th:only-of-type {\n        vertical-align: middle;\n    }\n\n    .dataframe tbody tr th {\n        vertical-align: top;\n    }\n\n    .dataframe thead th {\n        text-align: right;\n    }\n</style>\n<table border=\"1\" class=\"dataframe\">\n  <thead>\n    <tr style=\"text-align: right;\">\n      <th></th>\n      <th>ID</th>\n      <th>Expense</th>\n      <th>Income</th>\n      <th>Loan type</th>\n      <th>Occupation type</th>\n      <th>Age</th>\n      <th>Score1</th>\n      <th>Score2</th>\n      <th>Score3</th>\n      <th>Score4</th>\n      <th>Score5</th>\n      <th>Label</th>\n    </tr>\n  </thead>\n  <tbody>\n    <tr>\n      <th>0</th>\n      <td>1</td>\n      <td>1830.943788</td>\n      <td>14767.28013</td>\n      <td>1</td>\n      <td>1</td>\n      <td>1.0</td>\n      <td>0.016885</td>\n      <td>205.196182</td>\n      <td>22.521523</td>\n      <td>600.911200</td>\n      <td>3464.613291</td>\n      <td>0.0</td>\n    </tr>\n    <tr>\n      <th>1</th>\n      <td>2</td>\n      <td>1645.302546</td>\n      <td>15272.26775</td>\n      <td>1</td>\n      <td>1</td>\n      <td>0.0</td>\n      <td>0.240375</td>\n      <td>194.266317</td>\n      <td>5.349117</td>\n      <td>600.888816</td>\n      <td>3374.921455</td>\n      <td>0.0</td>\n    </tr>\n    <tr>\n      <th>2</th>\n      <td>3</td>\n      <td>1555.026392</td>\n      <td>17482.49734</td>\n      <td>0</td>\n      <td>1</td>\n      <td>0.0</td>\n      <td>0.213921</td>\n      <td>183.529871</td>\n      <td>-1.054954</td>\n      <td>598.596944</td>\n      <td>3331.304886</td>\n      <td>0.0</td>\n    </tr>\n    <tr>\n      <th>3</th>\n      <td>4</td>\n      <td>NaN</td>\n      <td>16257.66493</td>\n      <td>0</td>\n      <td>1</td>\n      <td>0.0</td>\n      <td>0.303909</td>\n      <td>191.228965</td>\n      <td>6.971750</td>\n      <td>602.447203</td>\n      <td>3392.275849</td>\n      <td>0.0</td>\n    </tr>\n    <tr>\n      <th>4</th>\n      <td>5</td>\n      <td>1777.648916</td>\n      <td>16316.29914</td>\n      <td>1</td>\n      <td>0</td>\n      <td>1.0</td>\n      <td>NaN</td>\n      <td>224.074728</td>\n      <td>11.218489</td>\n      <td>605.947340</td>\n      <td>3438.864083</td>\n      <td>0.0</td>\n    </tr>\n  </tbody>\n</table>\n</div>"
     },
     "metadata": {},
     "execution_count": 11
    }
   ],
   "source": [
    "train.head()"
   ]
  },
  {
   "cell_type": "code",
   "execution_count": 10,
   "metadata": {},
   "outputs": [],
   "source": [
    "# Converting all columns to float data type\n",
    "# We only have two categorical columns (Loan type and Occupation type) which we can \n",
    "# change back to categorical type later\n",
    "\n",
    "# for col in train.columns:\n",
    "#     train[col] = train[col].astype('float')\n"
   ]
  },
  {
   "cell_type": "code",
   "execution_count": 12,
   "metadata": {},
   "outputs": [
    {
     "output_type": "execute_result",
     "data": {
      "text/plain": [
       "ID                   int64\n",
       "Expense            float64\n",
       "Income             float64\n",
       "Loan type           object\n",
       "Occupation type     object\n",
       "Age                float64\n",
       "Score1             float64\n",
       "Score2             float64\n",
       "Score3             float64\n",
       "Score4             float64\n",
       "Score5             float64\n",
       "Label              float64\n",
       "dtype: object"
      ]
     },
     "metadata": {},
     "execution_count": 12
    }
   ],
   "source": [
    "train.dtypes"
   ]
  },
  {
   "cell_type": "code",
   "execution_count": 13,
   "metadata": {},
   "outputs": [
    {
     "output_type": "execute_result",
     "data": {
      "text/plain": [
       "ID                    int64\n",
       "Expense             float64\n",
       "Income              float64\n",
       "Loan type          category\n",
       "Occupation type    category\n",
       "Age                category\n",
       "Score1              float64\n",
       "Score2              float64\n",
       "Score3              float64\n",
       "Score4              float64\n",
       "Score5              float64\n",
       "Label              category\n",
       "dtype: object"
      ]
     },
     "metadata": {},
     "execution_count": 13
    }
   ],
   "source": [
    "train['Age'] = train['Age'].astype('category')\n",
    "train['Occupation type'] = train['Occupation type'].astype('category')\n",
    "train['Loan type'] = train['Loan type'].astype('category')\n",
    "train['Label'] = train['Label'].astype('category')\n",
    "train.dtypes"
   ]
  },
  {
   "cell_type": "code",
   "execution_count": 14,
   "metadata": {},
   "outputs": [
    {
     "output_type": "execute_result",
     "data": {
      "text/plain": [
       "[3, 4, 5, 11]"
      ]
     },
     "metadata": {},
     "execution_count": 14
    }
   ],
   "source": [
    "cat_cols = [train.columns.get_loc(col) for col in train.select_dtypes(['category']).columns.tolist()]\n",
    "# missForest imputation\n",
    "cat_cols"
   ]
  },
  {
   "source": [
    "MISSING FOREST IMPUTATION"
   ],
   "cell_type": "markdown",
   "metadata": {}
  },
  {
   "cell_type": "code",
   "execution_count": 15,
   "metadata": {},
   "outputs": [],
   "source": [
    "forest_imputer = MissForest(random_state =42)"
   ]
  },
  {
   "cell_type": "code",
   "execution_count": 16,
   "metadata": {},
   "outputs": [
    {
     "output_type": "stream",
     "name": "stdout",
     "text": [
      "Iteration: 0\n",
      "Iteration: 1\n",
      "Iteration: 2\n",
      "Iteration: 3\n",
      "Iteration: 4\n",
      "Iteration: 5\n"
     ]
    }
   ],
   "source": [
    "X_imputed = forest_imputer.fit_transform(train.values, cat_vars = cat_cols)"
   ]
  },
  {
   "cell_type": "code",
   "execution_count": 17,
   "metadata": {},
   "outputs": [],
   "source": [
    "forestImputedTrain = pd.DataFrame(X_imputed, columns=train.columns)"
   ]
  },
  {
   "cell_type": "code",
   "execution_count": 18,
   "metadata": {},
   "outputs": [
    {
     "output_type": "execute_result",
     "data": {
      "text/plain": [
       "    ID      Expense       Income  Loan type  Occupation type  Age    Score1  \\\n",
       "0  1.0  1830.943788  14767.28013        1.0              1.0  1.0  0.016885   \n",
       "1  2.0  1645.302546  15272.26775        1.0              1.0  0.0  0.240375   \n",
       "2  3.0  1555.026392  17482.49734        0.0              1.0  0.0  0.213921   \n",
       "3  4.0  1681.231479  16257.66493        0.0              1.0  0.0  0.303909   \n",
       "4  5.0  1777.648916  16316.29914        1.0              0.0  1.0  0.298502   \n",
       "\n",
       "       Score2     Score3      Score4       Score5  Label  \n",
       "0  205.196182  22.521523  600.911200  3464.613291    0.0  \n",
       "1  194.266317   5.349117  600.888816  3374.921455    0.0  \n",
       "2  183.529871  -1.054954  598.596944  3331.304886    0.0  \n",
       "3  191.228965   6.971750  602.447203  3392.275849    0.0  \n",
       "4  224.074728  11.218489  605.947340  3438.864083    0.0  "
      ],
      "text/html": "<div>\n<style scoped>\n    .dataframe tbody tr th:only-of-type {\n        vertical-align: middle;\n    }\n\n    .dataframe tbody tr th {\n        vertical-align: top;\n    }\n\n    .dataframe thead th {\n        text-align: right;\n    }\n</style>\n<table border=\"1\" class=\"dataframe\">\n  <thead>\n    <tr style=\"text-align: right;\">\n      <th></th>\n      <th>ID</th>\n      <th>Expense</th>\n      <th>Income</th>\n      <th>Loan type</th>\n      <th>Occupation type</th>\n      <th>Age</th>\n      <th>Score1</th>\n      <th>Score2</th>\n      <th>Score3</th>\n      <th>Score4</th>\n      <th>Score5</th>\n      <th>Label</th>\n    </tr>\n  </thead>\n  <tbody>\n    <tr>\n      <th>0</th>\n      <td>1.0</td>\n      <td>1830.943788</td>\n      <td>14767.28013</td>\n      <td>1.0</td>\n      <td>1.0</td>\n      <td>1.0</td>\n      <td>0.016885</td>\n      <td>205.196182</td>\n      <td>22.521523</td>\n      <td>600.911200</td>\n      <td>3464.613291</td>\n      <td>0.0</td>\n    </tr>\n    <tr>\n      <th>1</th>\n      <td>2.0</td>\n      <td>1645.302546</td>\n      <td>15272.26775</td>\n      <td>1.0</td>\n      <td>1.0</td>\n      <td>0.0</td>\n      <td>0.240375</td>\n      <td>194.266317</td>\n      <td>5.349117</td>\n      <td>600.888816</td>\n      <td>3374.921455</td>\n      <td>0.0</td>\n    </tr>\n    <tr>\n      <th>2</th>\n      <td>3.0</td>\n      <td>1555.026392</td>\n      <td>17482.49734</td>\n      <td>0.0</td>\n      <td>1.0</td>\n      <td>0.0</td>\n      <td>0.213921</td>\n      <td>183.529871</td>\n      <td>-1.054954</td>\n      <td>598.596944</td>\n      <td>3331.304886</td>\n      <td>0.0</td>\n    </tr>\n    <tr>\n      <th>3</th>\n      <td>4.0</td>\n      <td>1681.231479</td>\n      <td>16257.66493</td>\n      <td>0.0</td>\n      <td>1.0</td>\n      <td>0.0</td>\n      <td>0.303909</td>\n      <td>191.228965</td>\n      <td>6.971750</td>\n      <td>602.447203</td>\n      <td>3392.275849</td>\n      <td>0.0</td>\n    </tr>\n    <tr>\n      <th>4</th>\n      <td>5.0</td>\n      <td>1777.648916</td>\n      <td>16316.29914</td>\n      <td>1.0</td>\n      <td>0.0</td>\n      <td>1.0</td>\n      <td>0.298502</td>\n      <td>224.074728</td>\n      <td>11.218489</td>\n      <td>605.947340</td>\n      <td>3438.864083</td>\n      <td>0.0</td>\n    </tr>\n  </tbody>\n</table>\n</div>"
     },
     "metadata": {},
     "execution_count": 18
    }
   ],
   "source": [
    "forestImputedTrain.head()"
   ]
  },
  {
   "cell_type": "code",
   "execution_count": 19,
   "metadata": {},
   "outputs": [],
   "source": [
    "forestImputedTrain.to_csv('forestImputedTrain.csv',index=False)"
   ]
  },
  {
   "cell_type": "code",
   "execution_count": 4,
   "metadata": {},
   "outputs": [],
   "source": [
    "forestImputedTrain = pd.read_csv('forestImputedTrain.csv')"
   ]
  },
  {
   "cell_type": "code",
   "execution_count": 21,
   "metadata": {},
   "outputs": [
    {
     "output_type": "execute_result",
     "data": {
      "text/plain": [
       "    ID      Expense       Income  Loan type  Occupation type  Age    Score1  \\\n",
       "0  1.0  1830.943788  14767.28013        1.0              1.0  1.0  0.016885   \n",
       "1  2.0  1645.302546  15272.26775        1.0              1.0  0.0  0.240375   \n",
       "2  3.0  1555.026392  17482.49734        0.0              1.0  0.0  0.213921   \n",
       "3  4.0  1681.231479  16257.66493        0.0              1.0  0.0  0.303909   \n",
       "4  5.0  1777.648916  16316.29914        1.0              0.0  1.0  0.298502   \n",
       "\n",
       "       Score2     Score3      Score4       Score5  Label  \n",
       "0  205.196182  22.521523  600.911200  3464.613291    0.0  \n",
       "1  194.266317   5.349117  600.888816  3374.921455    0.0  \n",
       "2  183.529871  -1.054954  598.596944  3331.304886    0.0  \n",
       "3  191.228965   6.971750  602.447203  3392.275849    0.0  \n",
       "4  224.074728  11.218489  605.947340  3438.864083    0.0  "
      ],
      "text/html": "<div>\n<style scoped>\n    .dataframe tbody tr th:only-of-type {\n        vertical-align: middle;\n    }\n\n    .dataframe tbody tr th {\n        vertical-align: top;\n    }\n\n    .dataframe thead th {\n        text-align: right;\n    }\n</style>\n<table border=\"1\" class=\"dataframe\">\n  <thead>\n    <tr style=\"text-align: right;\">\n      <th></th>\n      <th>ID</th>\n      <th>Expense</th>\n      <th>Income</th>\n      <th>Loan type</th>\n      <th>Occupation type</th>\n      <th>Age</th>\n      <th>Score1</th>\n      <th>Score2</th>\n      <th>Score3</th>\n      <th>Score4</th>\n      <th>Score5</th>\n      <th>Label</th>\n    </tr>\n  </thead>\n  <tbody>\n    <tr>\n      <th>0</th>\n      <td>1.0</td>\n      <td>1830.943788</td>\n      <td>14767.28013</td>\n      <td>1.0</td>\n      <td>1.0</td>\n      <td>1.0</td>\n      <td>0.016885</td>\n      <td>205.196182</td>\n      <td>22.521523</td>\n      <td>600.911200</td>\n      <td>3464.613291</td>\n      <td>0.0</td>\n    </tr>\n    <tr>\n      <th>1</th>\n      <td>2.0</td>\n      <td>1645.302546</td>\n      <td>15272.26775</td>\n      <td>1.0</td>\n      <td>1.0</td>\n      <td>0.0</td>\n      <td>0.240375</td>\n      <td>194.266317</td>\n      <td>5.349117</td>\n      <td>600.888816</td>\n      <td>3374.921455</td>\n      <td>0.0</td>\n    </tr>\n    <tr>\n      <th>2</th>\n      <td>3.0</td>\n      <td>1555.026392</td>\n      <td>17482.49734</td>\n      <td>0.0</td>\n      <td>1.0</td>\n      <td>0.0</td>\n      <td>0.213921</td>\n      <td>183.529871</td>\n      <td>-1.054954</td>\n      <td>598.596944</td>\n      <td>3331.304886</td>\n      <td>0.0</td>\n    </tr>\n    <tr>\n      <th>3</th>\n      <td>4.0</td>\n      <td>1681.231479</td>\n      <td>16257.66493</td>\n      <td>0.0</td>\n      <td>1.0</td>\n      <td>0.0</td>\n      <td>0.303909</td>\n      <td>191.228965</td>\n      <td>6.971750</td>\n      <td>602.447203</td>\n      <td>3392.275849</td>\n      <td>0.0</td>\n    </tr>\n    <tr>\n      <th>4</th>\n      <td>5.0</td>\n      <td>1777.648916</td>\n      <td>16316.29914</td>\n      <td>1.0</td>\n      <td>0.0</td>\n      <td>1.0</td>\n      <td>0.298502</td>\n      <td>224.074728</td>\n      <td>11.218489</td>\n      <td>605.947340</td>\n      <td>3438.864083</td>\n      <td>0.0</td>\n    </tr>\n  </tbody>\n</table>\n</div>"
     },
     "metadata": {},
     "execution_count": 21
    }
   ],
   "source": [
    "forestImputedTrain.head()"
   ]
  },
  {
   "cell_type": "code",
   "execution_count": 31,
   "metadata": {},
   "outputs": [
    {
     "output_type": "execute_result",
     "data": {
      "text/plain": [
       "array([1., 0., 2.])"
      ]
     },
     "metadata": {},
     "execution_count": 31
    }
   ],
   "source": [
    "forestImputedTrain['Occupation type'].unique()"
   ]
  },
  {
   "cell_type": "code",
   "execution_count": 23,
   "metadata": {},
   "outputs": [],
   "source": [
    "x_null_labels = forestImputedTrain.loc[drop_indices]\n",
    "x_train = forestImputedTrain.loc[keep_indices]"
   ]
  },
  {
   "cell_type": "code",
   "execution_count": 25,
   "metadata": {},
   "outputs": [
    {
     "output_type": "execute_result",
     "data": {
      "text/plain": [
       "76097"
      ]
     },
     "metadata": {},
     "execution_count": 25
    }
   ],
   "source": [
    "len(x_train)"
   ]
  },
  {
   "cell_type": "code",
   "execution_count": 26,
   "metadata": {},
   "outputs": [
    {
     "output_type": "execute_result",
     "data": {
      "text/plain": [
       "ID                 float64\n",
       "Expense            float64\n",
       "Income             float64\n",
       "Loan type          float64\n",
       "Occupation type    float64\n",
       "Age                float64\n",
       "Score1             float64\n",
       "Score2             float64\n",
       "Score3             float64\n",
       "Score4             float64\n",
       "Score5             float64\n",
       "Label              float64\n",
       "dtype: object"
      ]
     },
     "metadata": {},
     "execution_count": 26
    }
   ],
   "source": [
    "x_train.dtypes"
   ]
  },
  {
   "cell_type": "code",
   "execution_count": 28,
   "metadata": {},
   "outputs": [
    {
     "output_type": "execute_result",
     "data": {
      "text/plain": [
       "                 ID       Expense        Income     Loan type  \\\n",
       "count  76097.000000  76097.000000  76097.000000  76097.000000   \n",
       "mean   39984.681722   1733.999747  15641.650335      0.468678   \n",
       "std    23085.782443    133.309937   1063.583830      0.499021   \n",
       "min        1.000000   1126.809192  11171.703240      0.000000   \n",
       "25%    19994.000000   1644.243130  14927.831830      0.000000   \n",
       "50%    39964.000000   1736.290800  15624.161220      0.000000   \n",
       "75%    59977.000000   1824.686798  16344.943180      1.000000   \n",
       "max    80000.000000   2309.129903  20728.915330      1.000000   \n",
       "\n",
       "       Occupation type           Age        Score1        Score2  \\\n",
       "count     76097.000000  76097.000000  76097.000000  76097.000000   \n",
       "mean          1.092264      0.441529      0.187605    192.075150   \n",
       "std           0.721614      0.496573      0.123576     28.555249   \n",
       "min           0.000000      0.000000     -0.563328     40.572797   \n",
       "25%           1.000000      0.000000      0.112587    173.455362   \n",
       "50%           1.000000      0.000000      0.189938    191.036701   \n",
       "75%           2.000000      1.000000      0.265250    209.702145   \n",
       "max           2.000000      1.000000      0.705737    338.073551   \n",
       "\n",
       "             Score3        Score4        Score5         Label  \n",
       "count  76097.000000  76097.000000  76097.000000  76097.000000  \n",
       "mean       9.363862    600.393683   3417.774959      0.066139  \n",
       "std        8.758607      3.828819     64.407296      0.248527  \n",
       "min      -28.885235    581.806404   3124.413430      0.000000  \n",
       "25%        3.510262    597.887417   3374.409602      0.000000  \n",
       "50%        8.876584    600.093495   3418.880495      0.000000  \n",
       "75%       14.745843    602.599159   3461.590251      0.000000  \n",
       "max       50.691479    619.623108   3685.793552      1.000000  "
      ],
      "text/html": "<div>\n<style scoped>\n    .dataframe tbody tr th:only-of-type {\n        vertical-align: middle;\n    }\n\n    .dataframe tbody tr th {\n        vertical-align: top;\n    }\n\n    .dataframe thead th {\n        text-align: right;\n    }\n</style>\n<table border=\"1\" class=\"dataframe\">\n  <thead>\n    <tr style=\"text-align: right;\">\n      <th></th>\n      <th>ID</th>\n      <th>Expense</th>\n      <th>Income</th>\n      <th>Loan type</th>\n      <th>Occupation type</th>\n      <th>Age</th>\n      <th>Score1</th>\n      <th>Score2</th>\n      <th>Score3</th>\n      <th>Score4</th>\n      <th>Score5</th>\n      <th>Label</th>\n    </tr>\n  </thead>\n  <tbody>\n    <tr>\n      <th>count</th>\n      <td>76097.000000</td>\n      <td>76097.000000</td>\n      <td>76097.000000</td>\n      <td>76097.000000</td>\n      <td>76097.000000</td>\n      <td>76097.000000</td>\n      <td>76097.000000</td>\n      <td>76097.000000</td>\n      <td>76097.000000</td>\n      <td>76097.000000</td>\n      <td>76097.000000</td>\n      <td>76097.000000</td>\n    </tr>\n    <tr>\n      <th>mean</th>\n      <td>39984.681722</td>\n      <td>1733.999747</td>\n      <td>15641.650335</td>\n      <td>0.468678</td>\n      <td>1.092264</td>\n      <td>0.441529</td>\n      <td>0.187605</td>\n      <td>192.075150</td>\n      <td>9.363862</td>\n      <td>600.393683</td>\n      <td>3417.774959</td>\n      <td>0.066139</td>\n    </tr>\n    <tr>\n      <th>std</th>\n      <td>23085.782443</td>\n      <td>133.309937</td>\n      <td>1063.583830</td>\n      <td>0.499021</td>\n      <td>0.721614</td>\n      <td>0.496573</td>\n      <td>0.123576</td>\n      <td>28.555249</td>\n      <td>8.758607</td>\n      <td>3.828819</td>\n      <td>64.407296</td>\n      <td>0.248527</td>\n    </tr>\n    <tr>\n      <th>min</th>\n      <td>1.000000</td>\n      <td>1126.809192</td>\n      <td>11171.703240</td>\n      <td>0.000000</td>\n      <td>0.000000</td>\n      <td>0.000000</td>\n      <td>-0.563328</td>\n      <td>40.572797</td>\n      <td>-28.885235</td>\n      <td>581.806404</td>\n      <td>3124.413430</td>\n      <td>0.000000</td>\n    </tr>\n    <tr>\n      <th>25%</th>\n      <td>19994.000000</td>\n      <td>1644.243130</td>\n      <td>14927.831830</td>\n      <td>0.000000</td>\n      <td>1.000000</td>\n      <td>0.000000</td>\n      <td>0.112587</td>\n      <td>173.455362</td>\n      <td>3.510262</td>\n      <td>597.887417</td>\n      <td>3374.409602</td>\n      <td>0.000000</td>\n    </tr>\n    <tr>\n      <th>50%</th>\n      <td>39964.000000</td>\n      <td>1736.290800</td>\n      <td>15624.161220</td>\n      <td>0.000000</td>\n      <td>1.000000</td>\n      <td>0.000000</td>\n      <td>0.189938</td>\n      <td>191.036701</td>\n      <td>8.876584</td>\n      <td>600.093495</td>\n      <td>3418.880495</td>\n      <td>0.000000</td>\n    </tr>\n    <tr>\n      <th>75%</th>\n      <td>59977.000000</td>\n      <td>1824.686798</td>\n      <td>16344.943180</td>\n      <td>1.000000</td>\n      <td>2.000000</td>\n      <td>1.000000</td>\n      <td>0.265250</td>\n      <td>209.702145</td>\n      <td>14.745843</td>\n      <td>602.599159</td>\n      <td>3461.590251</td>\n      <td>0.000000</td>\n    </tr>\n    <tr>\n      <th>max</th>\n      <td>80000.000000</td>\n      <td>2309.129903</td>\n      <td>20728.915330</td>\n      <td>1.000000</td>\n      <td>2.000000</td>\n      <td>1.000000</td>\n      <td>0.705737</td>\n      <td>338.073551</td>\n      <td>50.691479</td>\n      <td>619.623108</td>\n      <td>3685.793552</td>\n      <td>1.000000</td>\n    </tr>\n  </tbody>\n</table>\n</div>"
     },
     "metadata": {},
     "execution_count": 28
    }
   ],
   "source": [
    "x_train.describe()"
   ]
  },
  {
   "cell_type": "code",
   "execution_count": 30,
   "metadata": {},
   "outputs": [
    {
     "output_type": "execute_result",
     "data": {
      "text/plain": [
       "                 ID       Expense        Income     Loan type  \\\n",
       "count  80000.000000  80000.000000  80000.000000  80000.000000   \n",
       "mean   40000.500000   1733.979707  15641.268085      0.468700   \n",
       "std    23094.155105    133.304955   1063.312654      0.499022   \n",
       "min        1.000000   1126.809192  11171.703240      0.000000   \n",
       "25%    20000.750000   1644.256164  14928.428293      0.000000   \n",
       "50%    40000.500000   1736.234929  15624.231990      0.000000   \n",
       "75%    60000.250000   1824.429192  16343.719282      1.000000   \n",
       "max    80000.000000   2309.129903  20728.915330      1.000000   \n",
       "\n",
       "       Occupation type           Age        Score1        Score2  \\\n",
       "count     80000.000000  80000.000000  80000.000000  80000.000000   \n",
       "mean          1.092250      0.441512      0.187642    192.065006   \n",
       "std           0.721142      0.496571      0.123456     28.538296   \n",
       "min           0.000000      0.000000     -0.563328     40.572797   \n",
       "25%           1.000000      0.000000      0.112717    173.445950   \n",
       "50%           1.000000      0.000000      0.189924    191.034981   \n",
       "75%           2.000000      1.000000      0.265201    209.710764   \n",
       "max           2.000000      1.000000      0.705737    338.073551   \n",
       "\n",
       "             Score3        Score4        Score5         Label  \n",
       "count  80000.000000  80000.000000  80000.000000  80000.000000  \n",
       "mean       9.363245    600.393473   3417.765289      0.065600  \n",
       "std        8.750089      3.824727     64.404941      0.247583  \n",
       "min      -28.885235    581.806404   3124.413430      0.000000  \n",
       "25%        3.514842    597.891336   3374.415899      0.000000  \n",
       "50%        8.879374    600.094251   3418.855078      0.000000  \n",
       "75%       14.740572    602.595431   3461.465789      0.000000  \n",
       "max       50.691479    619.623108   3692.731924      1.000000  "
      ],
      "text/html": "<div>\n<style scoped>\n    .dataframe tbody tr th:only-of-type {\n        vertical-align: middle;\n    }\n\n    .dataframe tbody tr th {\n        vertical-align: top;\n    }\n\n    .dataframe thead th {\n        text-align: right;\n    }\n</style>\n<table border=\"1\" class=\"dataframe\">\n  <thead>\n    <tr style=\"text-align: right;\">\n      <th></th>\n      <th>ID</th>\n      <th>Expense</th>\n      <th>Income</th>\n      <th>Loan type</th>\n      <th>Occupation type</th>\n      <th>Age</th>\n      <th>Score1</th>\n      <th>Score2</th>\n      <th>Score3</th>\n      <th>Score4</th>\n      <th>Score5</th>\n      <th>Label</th>\n    </tr>\n  </thead>\n  <tbody>\n    <tr>\n      <th>count</th>\n      <td>80000.000000</td>\n      <td>80000.000000</td>\n      <td>80000.000000</td>\n      <td>80000.000000</td>\n      <td>80000.000000</td>\n      <td>80000.000000</td>\n      <td>80000.000000</td>\n      <td>80000.000000</td>\n      <td>80000.000000</td>\n      <td>80000.000000</td>\n      <td>80000.000000</td>\n      <td>80000.000000</td>\n    </tr>\n    <tr>\n      <th>mean</th>\n      <td>40000.500000</td>\n      <td>1733.979707</td>\n      <td>15641.268085</td>\n      <td>0.468700</td>\n      <td>1.092250</td>\n      <td>0.441512</td>\n      <td>0.187642</td>\n      <td>192.065006</td>\n      <td>9.363245</td>\n      <td>600.393473</td>\n      <td>3417.765289</td>\n      <td>0.065600</td>\n    </tr>\n    <tr>\n      <th>std</th>\n      <td>23094.155105</td>\n      <td>133.304955</td>\n      <td>1063.312654</td>\n      <td>0.499022</td>\n      <td>0.721142</td>\n      <td>0.496571</td>\n      <td>0.123456</td>\n      <td>28.538296</td>\n      <td>8.750089</td>\n      <td>3.824727</td>\n      <td>64.404941</td>\n      <td>0.247583</td>\n    </tr>\n    <tr>\n      <th>min</th>\n      <td>1.000000</td>\n      <td>1126.809192</td>\n      <td>11171.703240</td>\n      <td>0.000000</td>\n      <td>0.000000</td>\n      <td>0.000000</td>\n      <td>-0.563328</td>\n      <td>40.572797</td>\n      <td>-28.885235</td>\n      <td>581.806404</td>\n      <td>3124.413430</td>\n      <td>0.000000</td>\n    </tr>\n    <tr>\n      <th>25%</th>\n      <td>20000.750000</td>\n      <td>1644.256164</td>\n      <td>14928.428293</td>\n      <td>0.000000</td>\n      <td>1.000000</td>\n      <td>0.000000</td>\n      <td>0.112717</td>\n      <td>173.445950</td>\n      <td>3.514842</td>\n      <td>597.891336</td>\n      <td>3374.415899</td>\n      <td>0.000000</td>\n    </tr>\n    <tr>\n      <th>50%</th>\n      <td>40000.500000</td>\n      <td>1736.234929</td>\n      <td>15624.231990</td>\n      <td>0.000000</td>\n      <td>1.000000</td>\n      <td>0.000000</td>\n      <td>0.189924</td>\n      <td>191.034981</td>\n      <td>8.879374</td>\n      <td>600.094251</td>\n      <td>3418.855078</td>\n      <td>0.000000</td>\n    </tr>\n    <tr>\n      <th>75%</th>\n      <td>60000.250000</td>\n      <td>1824.429192</td>\n      <td>16343.719282</td>\n      <td>1.000000</td>\n      <td>2.000000</td>\n      <td>1.000000</td>\n      <td>0.265201</td>\n      <td>209.710764</td>\n      <td>14.740572</td>\n      <td>602.595431</td>\n      <td>3461.465789</td>\n      <td>0.000000</td>\n    </tr>\n    <tr>\n      <th>max</th>\n      <td>80000.000000</td>\n      <td>2309.129903</td>\n      <td>20728.915330</td>\n      <td>1.000000</td>\n      <td>2.000000</td>\n      <td>1.000000</td>\n      <td>0.705737</td>\n      <td>338.073551</td>\n      <td>50.691479</td>\n      <td>619.623108</td>\n      <td>3692.731924</td>\n      <td>1.000000</td>\n    </tr>\n  </tbody>\n</table>\n</div>"
     },
     "metadata": {},
     "execution_count": 30
    }
   ],
   "source": [
    "forestImputedTrain.describe()"
   ]
  },
  {
   "cell_type": "code",
   "execution_count": null,
   "metadata": {},
   "outputs": [],
   "source": []
  }
 ]
}