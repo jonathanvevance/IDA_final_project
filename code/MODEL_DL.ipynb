{
  "cells": [
    {
      "cell_type": "code",
      "execution_count": 1,
      "metadata": {
        "colab": {
          "base_uri": "https://localhost:8080/"
        },
        "id": "IK35WyNUJlRc",
        "outputId": "cdf233ab-272a-48eb-a9b8-abd389778073"
      },
      "outputs": [
        {
          "name": "stderr",
          "output_type": "stream",
          "text": [
            "Matplotlib is building the font cache; this may take a moment.\n"
          ]
        },
        {
          "name": "stdout",
          "output_type": "stream",
          "text": [
            "Pytorch version: 1.7.1\n"
          ]
        }
      ],
      "source": [
        "# importing libraries\r\n",
        "import pandas as pd \r\n",
        "import numpy as np\r\n",
        "import pickle as pkl\r\n",
        "import matplotlib as mpl \r\n",
        "import matplotlib.pyplot as plt\r\n",
        "plt.rcParams['figure.facecolor'] = 'white'\r\n",
        "\r\n",
        "from imblearn.over_sampling import SMOTENC\r\n",
        "from sklearn.model_selection import train_test_split\r\n",
        "from sklearn.compose import ColumnTransformer, make_column_selector\r\n",
        "from sklearn.preprocessing import StandardScaler\r\n",
        "from sklearn.metrics import classification_report, f1_score\r\n",
        "\r\n",
        "import torch\r\n",
        "print(f\"Pytorch version: {torch.__version__}\")\r\n",
        "from torch.utils.data import Dataset, DataLoader\r\n",
        "import torch.nn as nn\r\n",
        "import torch.nn.functional as F\r\n",
        "\r\n",
        "# setting seed to get reproducible results\r\n",
        "torch.manual_seed(0)\r\n",
        "np.random.seed(0)"
      ]
    },
    {
      "cell_type": "code",
      "execution_count": 2,
      "metadata": {
        "colab": {
          "base_uri": "https://localhost:8080/"
        },
        "id": "Iw7rDhcbJlRq",
        "outputId": "d87b663b-27e5-4f47-dd7b-b679f99a028b"
      },
      "outputs": [
        {
          "name": "stdout",
          "output_type": "stream",
          "text": [
            "cuda:0\n"
          ]
        }
      ],
      "source": [
        "# Setting device to GPU if it's available to train the model on GPU\r\n",
        "device = torch.device(\"cuda:0\" if torch.cuda.is_available() else \"cpu\") \r\n",
        "print(device)"
      ]
    },
    {
      "cell_type": "code",
      "execution_count": 4,
      "metadata": {
        "colab": {
          "base_uri": "https://localhost:8080/",
          "height": 224
        },
        "id": "30UikGOOJlRt",
        "outputId": "6a00e00e-2d22-4894-c86c-3e4b01ba02ba"
      },
      "outputs": [
        {
          "name": "stdout",
          "output_type": "stream",
          "text": [
            "(80000, 12)\n"
          ]
        },
        {
          "data": {
            "text/html": [
              "<div>\n",
              "<style scoped>\n",
              "    .dataframe tbody tr th:only-of-type {\n",
              "        vertical-align: middle;\n",
              "    }\n",
              "\n",
              "    .dataframe tbody tr th {\n",
              "        vertical-align: top;\n",
              "    }\n",
              "\n",
              "    .dataframe thead th {\n",
              "        text-align: right;\n",
              "    }\n",
              "</style>\n",
              "<table border=\"1\" class=\"dataframe\">\n",
              "  <thead>\n",
              "    <tr style=\"text-align: right;\">\n",
              "      <th></th>\n",
              "      <th>ID</th>\n",
              "      <th>Expense</th>\n",
              "      <th>Income</th>\n",
              "      <th>Loan type</th>\n",
              "      <th>Occupation type</th>\n",
              "      <th>Age</th>\n",
              "      <th>Score1</th>\n",
              "      <th>Score2</th>\n",
              "      <th>Score3</th>\n",
              "      <th>Score4</th>\n",
              "      <th>Score5</th>\n",
              "      <th>Label</th>\n",
              "    </tr>\n",
              "  </thead>\n",
              "  <tbody>\n",
              "    <tr>\n",
              "      <th>0</th>\n",
              "      <td>1.0</td>\n",
              "      <td>1830.943788</td>\n",
              "      <td>14767.28013</td>\n",
              "      <td>1.0</td>\n",
              "      <td>1.0</td>\n",
              "      <td>1.0</td>\n",
              "      <td>0.016885</td>\n",
              "      <td>205.196182</td>\n",
              "      <td>22.521523</td>\n",
              "      <td>600.911200</td>\n",
              "      <td>3464.613291</td>\n",
              "      <td>0.0</td>\n",
              "    </tr>\n",
              "    <tr>\n",
              "      <th>1</th>\n",
              "      <td>2.0</td>\n",
              "      <td>1645.302546</td>\n",
              "      <td>15272.26775</td>\n",
              "      <td>1.0</td>\n",
              "      <td>1.0</td>\n",
              "      <td>0.0</td>\n",
              "      <td>0.240375</td>\n",
              "      <td>194.266317</td>\n",
              "      <td>5.349117</td>\n",
              "      <td>600.888816</td>\n",
              "      <td>3374.921455</td>\n",
              "      <td>0.0</td>\n",
              "    </tr>\n",
              "    <tr>\n",
              "      <th>2</th>\n",
              "      <td>3.0</td>\n",
              "      <td>1555.026392</td>\n",
              "      <td>17482.49734</td>\n",
              "      <td>0.0</td>\n",
              "      <td>1.0</td>\n",
              "      <td>0.0</td>\n",
              "      <td>0.213921</td>\n",
              "      <td>183.529871</td>\n",
              "      <td>-1.054954</td>\n",
              "      <td>598.596944</td>\n",
              "      <td>3331.304886</td>\n",
              "      <td>0.0</td>\n",
              "    </tr>\n",
              "    <tr>\n",
              "      <th>3</th>\n",
              "      <td>4.0</td>\n",
              "      <td>1681.231479</td>\n",
              "      <td>16257.66493</td>\n",
              "      <td>0.0</td>\n",
              "      <td>1.0</td>\n",
              "      <td>0.0</td>\n",
              "      <td>0.303909</td>\n",
              "      <td>191.228965</td>\n",
              "      <td>6.971750</td>\n",
              "      <td>602.447203</td>\n",
              "      <td>3392.275849</td>\n",
              "      <td>0.0</td>\n",
              "    </tr>\n",
              "    <tr>\n",
              "      <th>4</th>\n",
              "      <td>5.0</td>\n",
              "      <td>1777.648916</td>\n",
              "      <td>16316.29914</td>\n",
              "      <td>1.0</td>\n",
              "      <td>0.0</td>\n",
              "      <td>1.0</td>\n",
              "      <td>0.298502</td>\n",
              "      <td>224.074728</td>\n",
              "      <td>11.218489</td>\n",
              "      <td>605.947340</td>\n",
              "      <td>3438.864083</td>\n",
              "      <td>0.0</td>\n",
              "    </tr>\n",
              "  </tbody>\n",
              "</table>\n",
              "</div>"
            ],
            "text/plain": [
              "    ID      Expense       Income  ...      Score4       Score5  Label\n",
              "0  1.0  1830.943788  14767.28013  ...  600.911200  3464.613291    0.0\n",
              "1  2.0  1645.302546  15272.26775  ...  600.888816  3374.921455    0.0\n",
              "2  3.0  1555.026392  17482.49734  ...  598.596944  3331.304886    0.0\n",
              "3  4.0  1681.231479  16257.66493  ...  602.447203  3392.275849    0.0\n",
              "4  5.0  1777.648916  16316.29914  ...  605.947340  3438.864083    0.0\n",
              "\n",
              "[5 rows x 12 columns]"
            ]
          },
          "execution_count": 4,
          "metadata": {
            "tags": []
          },
          "output_type": "execute_result"
        }
      ],
      "source": [
        "# RandomForest imputed dataset \n",
        "df_rf = pd.read_csv(r\"/content/drive/MyDrive/ida_data/forestImputedTrain.csv\")\n",
        "print(df_rf.shape)\n",
        "df_rf.head()"
      ]
    },
    {
      "cell_type": "code",
      "execution_count": 3,
      "metadata": {
        "id": "qTX-QdObJlRw"
      },
      "outputs": [],
      "source": [
        "# we have trained a Generative Adversarial Network on the data to give us synthetic data\r\n",
        "# Now we randomly sample rows of minority class from the synthetic data to add it\r\n",
        "# and add them to our dataframe to reduce class imbalance\r\n",
        "def ctgan_oversample(df_path, ctgan_data_path, target_ratio):\r\n",
        "    \"\"\"Splits the dataset into train and test with a 80:20 ratio and oversamples the\r\n",
        "    minority class from the train dataset upto the ratio that we want. It uses samples \r\n",
        "    from GAN generated synthetic data to upsample the minority class\r\n",
        "\r\n",
        "    Args:\r\n",
        "        df_path (str): path of original dataframe\r\n",
        "        ctgan_data_path (str): path of the GAN generated synthetic data\r\n",
        "        target_ratio (float): ratio of majority to minority class after oversampling\r\n",
        "\r\n",
        "    Returns:\r\n",
        "        pd.DataFrame: Train and test datasets\r\n",
        "    \"\"\"\r\n",
        "    \r\n",
        "    df = pd.read_csv(df_path)\r\n",
        "\r\n",
        "    df_train, df_test = train_test_split(df, test_size=0.2, random_state=42)\r\n",
        " \r\n",
        "    ctgan_df = pd.DataFrame(np.load(ctgan_data_path), columns=df_train.columns)\r\n",
        "\r\n",
        "    c_0 = df[df['Label']==0].shape[0]\r\n",
        "    c_1 = df[df['Label']==1].shape[0]\r\n",
        "\r\n",
        "    print(\"Ratio of class 0: class 1 in orginal data is {0:.2f}%:{1:.2f}%\".format(c_0/(c_0+c_1)*100, c_1/(c_0+c_1)*100))\r\n",
        "\r\n",
        "    additional_samples = ctgan_df[ctgan_df['Label']==1].sample(n=round(c_0/target_ratio-c_1), random_state=42)\r\n",
        "\r\n",
        "    c_1 += additional_samples.shape[0]\r\n",
        "    print(\"Ratio of class 0: class 1 after resampling is {0:.2f}%:{1:.2f}%\".format(c_0/(c_0+c_1)*100, c_1/(c_0+c_1)*100))\r\n",
        "\r\n",
        "    df_non_skewed = pd.concat([df_train, additional_samples], axis=0).sample(frac=1, random_state=69).reset_index(drop=True)\r\n",
        "\r\n",
        "    return df_non_skewed, df_test    "
      ]
    },
    {
      "cell_type": "code",
      "execution_count": 4,
      "metadata": {
        "colab": {
          "base_uri": "https://localhost:8080/"
        },
        "id": "qSZIQXHjJlRy",
        "outputId": "7347079c-473b-4df6-9416-9eecd4de8b9b"
      },
      "outputs": [],
      "source": [
        "# performs oversampling  + some basic operations necessary to make the data ready\r\n",
        "# for model fitting\r\n",
        "\r\n",
        "def final_cleaned(resample_method=\"gan\"):\r\n",
        "    \"\"\"Performs upsampling and labels from input features\r\n",
        "\r\n",
        "    Returns:\r\n",
        "        pd.DataFrame: train features, test features, train labels, test labels\r\n",
        "    \"\"\"\r\n",
        "    if resample_method == \"gan\":\r\n",
        "        X_train, X_test = ctgan_oversample(df_path=r\"cleaned_data\\forestImputedTrain.csv\",\r\n",
        "                            ctgan_data_path=r\"cleaned_data\\ctgan_8L_data.npy\",\r\n",
        "                            target_ratio=60/40)\r\n",
        "\r\n",
        "        X_train.drop(columns=['ID'], inplace=True)\r\n",
        "        X_test.drop(columns=['ID'], inplace=True)\r\n",
        "\r\n",
        "        categorical_cols = [\"Loan type\",\"Occupation type\",\"Age\"]\r\n",
        "        X_train[categorical_cols] = X_train[categorical_cols].astype(object)\r\n",
        "        X_test[categorical_cols] = X_test[categorical_cols].astype(object)\r\n",
        "\r\n",
        "        y_train = X_train.pop(\"Label\")\r\n",
        "        y_test = X_test.pop(\"Label\")\r\n",
        "\r\n",
        "        return X_train, X_test, y_train, y_test\r\n",
        "\r\n",
        "    elif resample_method == \"smote\":\r\n",
        "\r\n",
        "        X_train, X_test = train_test_split(pd.read_csv(r\"cleaned_data\\forestImputedTrain.csv\"),\r\n",
        "                                           test_size=0.2)\r\n",
        "\r\n",
        "        X_train.drop(columns=['ID'], inplace=True)\r\n",
        "        X_test.drop(columns=['ID'], inplace=True)\r\n",
        "\r\n",
        "        y_train = X_train.pop(\"Label\")\r\n",
        "        y_test = X_test.pop(\"Label\")\r\n",
        "\r\n",
        "        categorical_cols = [\"Loan type\",\"Occupation type\",\"Age\"]\r\n",
        "        categorical_index = [i for i in range(len(X_train.columns)) if X_train.columns[i] in categorical_cols]\r\n",
        "        \r\n",
        "        smote = SMOTENC(sampling_strategy = 40/60, categorical_features=categorical_index)\r\n",
        "        X_res, y_res = smote.fit_resample(X_train, y_train)\r\n",
        "\r\n",
        "        X_res = pd.DataFrame(X_res, columns=X_train.columns)\r\n",
        "        y_res = pd.DataFrame(y_res)\r\n",
        "\r\n",
        "        X_res[categorical_cols] = X_res[categorical_cols].astype(object)\r\n",
        "        X_test[categorical_cols] = X_test[categorical_cols].astype(object)\r\n",
        "\r\n",
        "        return X_res, X_test, y_res, y_test\r\n",
        "\r\n",
        "X_train, X_test, y_train, y_test = final_cleaned(resample_method=\"smote\")"
      ]
    },
    {
      "cell_type": "code",
      "execution_count": 8,
      "metadata": {
        "colab": {
          "base_uri": "https://localhost:8080/",
          "height": 206
        },
        "id": "cD9uDQQDJlR0",
        "outputId": "8e5128ef-9071-467d-ede7-2ccd43c033b0"
      },
      "outputs": [
        {
          "data": {
            "text/html": [
              "<div>\n",
              "<style scoped>\n",
              "    .dataframe tbody tr th:only-of-type {\n",
              "        vertical-align: middle;\n",
              "    }\n",
              "\n",
              "    .dataframe tbody tr th {\n",
              "        vertical-align: top;\n",
              "    }\n",
              "\n",
              "    .dataframe thead th {\n",
              "        text-align: right;\n",
              "    }\n",
              "</style>\n",
              "<table border=\"1\" class=\"dataframe\">\n",
              "  <thead>\n",
              "    <tr style=\"text-align: right;\">\n",
              "      <th></th>\n",
              "      <th>Expense</th>\n",
              "      <th>Income</th>\n",
              "      <th>Loan type</th>\n",
              "      <th>Occupation type</th>\n",
              "      <th>Age</th>\n",
              "      <th>Score1</th>\n",
              "      <th>Score2</th>\n",
              "      <th>Score3</th>\n",
              "      <th>Score4</th>\n",
              "      <th>Score5</th>\n",
              "    </tr>\n",
              "  </thead>\n",
              "  <tbody>\n",
              "    <tr>\n",
              "      <th>0</th>\n",
              "      <td>1599.684340</td>\n",
              "      <td>17065.52308</td>\n",
              "      <td>0</td>\n",
              "      <td>1</td>\n",
              "      <td>1</td>\n",
              "      <td>0.401602</td>\n",
              "      <td>200.640414</td>\n",
              "      <td>-1.120416</td>\n",
              "      <td>603.539753</td>\n",
              "      <td>3352.881198</td>\n",
              "    </tr>\n",
              "    <tr>\n",
              "      <th>1</th>\n",
              "      <td>1729.609325</td>\n",
              "      <td>16625.35468</td>\n",
              "      <td>0</td>\n",
              "      <td>1</td>\n",
              "      <td>0</td>\n",
              "      <td>0.173100</td>\n",
              "      <td>194.539602</td>\n",
              "      <td>7.094905</td>\n",
              "      <td>599.891263</td>\n",
              "      <td>3415.653944</td>\n",
              "    </tr>\n",
              "    <tr>\n",
              "      <th>2</th>\n",
              "      <td>1722.839176</td>\n",
              "      <td>13959.94843</td>\n",
              "      <td>0</td>\n",
              "      <td>2</td>\n",
              "      <td>0</td>\n",
              "      <td>0.270238</td>\n",
              "      <td>151.637609</td>\n",
              "      <td>5.029984</td>\n",
              "      <td>597.358924</td>\n",
              "      <td>3412.382973</td>\n",
              "    </tr>\n",
              "    <tr>\n",
              "      <th>3</th>\n",
              "      <td>1729.332883</td>\n",
              "      <td>14285.65472</td>\n",
              "      <td>0</td>\n",
              "      <td>2</td>\n",
              "      <td>0</td>\n",
              "      <td>0.192543</td>\n",
              "      <td>167.729187</td>\n",
              "      <td>5.650340</td>\n",
              "      <td>597.252220</td>\n",
              "      <td>3415.520382</td>\n",
              "    </tr>\n",
              "    <tr>\n",
              "      <th>4</th>\n",
              "      <td>1899.888807</td>\n",
              "      <td>14549.96714</td>\n",
              "      <td>0</td>\n",
              "      <td>1</td>\n",
              "      <td>0</td>\n",
              "      <td>-0.011830</td>\n",
              "      <td>177.591179</td>\n",
              "      <td>26.780329</td>\n",
              "      <td>598.909797</td>\n",
              "      <td>3497.925996</td>\n",
              "    </tr>\n",
              "  </tbody>\n",
              "</table>\n",
              "</div>"
            ],
            "text/plain": [
              "       Expense       Income Loan type  ...     Score3      Score4       Score5\n",
              "0  1599.684340  17065.52308         0  ...  -1.120416  603.539753  3352.881198\n",
              "1  1729.609325  16625.35468         0  ...   7.094905  599.891263  3415.653944\n",
              "2  1722.839176  13959.94843         0  ...   5.029984  597.358924  3412.382973\n",
              "3  1729.332883  14285.65472         0  ...   5.650340  597.252220  3415.520382\n",
              "4  1899.888807  14549.96714         0  ...  26.780329  598.909797  3497.925996\n",
              "\n",
              "[5 rows x 10 columns]"
            ]
          },
          "execution_count": 8,
          "metadata": {
            "tags": []
          },
          "output_type": "execute_result"
        }
      ],
      "source": [
        "X_train.head()"
      ]
    },
    {
      "cell_type": "markdown",
      "metadata": {
        "id": "Xc3CitU2JlR1"
      },
      "source": [
        "DATA LOADING "
      ]
    },
    {
      "cell_type": "code",
      "execution_count": 9,
      "metadata": {
        "id": "hpsZMd9lJlR2"
      },
      "outputs": [],
      "source": [
        "## hyperparameters for the model##\r\n",
        "INPUT_SIZE=10 # input features dimensions\r\n",
        "BATCH_SIZE=32 \r\n",
        "lr = 0.001 # learning rate for optimizer\r\n",
        "EPOCHS = 23"
      ]
    },
    {
      "cell_type": "code",
      "execution_count": 6,
      "metadata": {
        "id": "xccin0APJlR3"
      },
      "outputs": [],
      "source": [
        "## Setting up dataset class for model ##\r\n",
        "\r\n",
        "class CSVData(Dataset):\r\n",
        "    def __init__(self, X, y, train=True, preprocess=True, transform=None):\r\n",
        "        \"\"\"Assign values to variables\r\n",
        "\r\n",
        "        Args:\r\n",
        "            X (pd.DataFrame): Input features\r\n",
        "            y (pd.DataFrame): labels\r\n",
        "            train (bool, optional): if training data or not. Defaults to True.\r\n",
        "            preprocess (bool, optional): if preprocessing required or not. Defaults to True.\r\n",
        "            transform ([type], optional): sklearn transform to apply to data. Defaults to None.\r\n",
        "        \"\"\"\r\n",
        "\r\n",
        "        self.transform = transform\r\n",
        "\r\n",
        "        if preprocess: # if preprocessing is to be done\r\n",
        "            if train: # if its training data\r\n",
        "\r\n",
        "                # we perform scaling for numerical columns\r\n",
        "                ct = ColumnTransformer([('scaler', StandardScaler(), make_column_selector(dtype_exclude=object))],\r\n",
        "                                       remainder='passthrough')\r\n",
        "                X = np.array(ct.fit_transform(X), dtype=np.float32)\r\n",
        "                self.transform = ct # save the transform for testing data\r\n",
        "\r\n",
        "            else: # if its testing data (in that case transform will contain train data ColumnTransformer)\r\n",
        "                X = np.array(self.transform.transform(X), dtype=np.float32)\r\n",
        "            \r\n",
        "        # convert the final dataset into pytorch tensors\r\n",
        "        self.X = torch.from_numpy(X)\r\n",
        "        self.y = torch.tensor(y.to_numpy(), dtype=torch.float32)\r\n",
        "\r\n",
        "    def __len__(self):\r\n",
        "        \"\"\"calculates the total length of the dataset\r\n",
        "\r\n",
        "        Returns:\r\n",
        "            int: length of the dataset\r\n",
        "        \"\"\"     \r\n",
        "        return len(self.y)\r\n",
        "\r\n",
        "    def __getitem__(self, idx):\r\n",
        "        \"\"\"Returns a sample from the dataset by index\r\n",
        "\r\n",
        "        Args:\r\n",
        "            idx (list): list of indices\r\n",
        "\r\n",
        "        Returns:\r\n",
        "            torch.tensor: features, labels\r\n",
        "        \"\"\"\r\n",
        "        if torch.is_tensor(idx):\r\n",
        "            idx = idx.tolist()\r\n",
        "\r\n",
        "        return self.X[idx], self.y[idx]"
      ]
    },
    {
      "cell_type": "code",
      "execution_count": 11,
      "metadata": {
        "id": "FPdbmObBJlR4"
      },
      "outputs": [],
      "source": [
        "# creating pytorch datasets for train and test #\n",
        "train_ds = CSVData(X_train,y_train, train=True, preprocess=True, transform=None)\n",
        "test_ds = CSVData(X_test, y_test, train=False, preprocess=True, transform=train_ds.transform)"
      ]
    },
    {
      "cell_type": "code",
      "execution_count": 12,
      "metadata": {
        "id": "BWBzMOnsJlR6"
      },
      "outputs": [],
      "source": [
        "# creating dataloader objects to batch data and feed it into the model #\r\n",
        "train_loader = DataLoader(dataset=train_ds, batch_size=BATCH_SIZE, shuffle=True)\r\n",
        "test_loader = DataLoader(dataset=test_ds, batch_size=BATCH_SIZE)"
      ]
    },
    {
      "cell_type": "markdown",
      "metadata": {
        "id": "WsWycICrJlR7"
      },
      "source": [
        "BUILDING THE MODEL"
      ]
    },
    {
      "cell_type": "code",
      "execution_count": 7,
      "metadata": {
        "id": "9Xx3SUk0JlR8"
      },
      "outputs": [],
      "source": [
        "# defining the model architecture #\n",
        "class FraudModel(nn.Module):\n",
        "    def __init__(self):\n",
        "        super(FraudModel,self).__init__()\n",
        "\n",
        "        self.fc1 = nn.Linear(INPUT_SIZE, 32)\n",
        "        self.fc2 = nn.Linear(32,100)\n",
        "        self.fc3 = nn.Linear(100,150)\n",
        "        self.fc4 = nn.Linear(150,100)\n",
        "        self.fc5 = nn.Linear(100,50)\n",
        "        self.fc6 = nn.Linear(50,1)\n",
        "\n",
        "    def forward(self, x):\n",
        "        x = F.relu(self.fc1(x))\n",
        "        x = F.relu(self.fc2(x))\n",
        "        x = F.relu(self.fc3(x))\n",
        "        x = F.relu(self.fc4(x))\n",
        "        x = F.relu(self.fc5(x))\n",
        "\n",
        "        return torch.sigmoid(self.fc6(x))"
      ]
    },
    {
      "cell_type": "code",
      "execution_count": 14,
      "metadata": {
        "id": "t1X4kbNjJlR9"
      },
      "outputs": [],
      "source": [
        "# create an instance of our model\r\n",
        "model = FraudModel()\r\n",
        "model.to(device) # transfers operations to GPU (in our case)\r\n",
        "\r\n",
        "# setting up the optimizer and the loss\r\n",
        "optimizer = torch.optim.Adam(model.parameters(), lr=lr)\r\n",
        "\r\n",
        "# Binary Crossentropy Loss for Binary classification\r\n",
        "criterion = nn.BCELoss()"
      ]
    },
    {
      "cell_type": "code",
      "execution_count": 11,
      "metadata": {
        "id": "hmX2X-4cJlR9"
      },
      "outputs": [],
      "source": [
        "# creating a custom function for accuracy \r\n",
        "def accuracy(y_true,y_prob):\r\n",
        "    y_pred = (y_prob>0.5).float()\r\n",
        "    \r\n",
        "    acc = (y_pred == y_true).sum().item()\r\n",
        "    return acc/y_true.shape[0]\r\n",
        "\r\n",
        "# converts probability returned by a neural network to labels\r\n",
        "def to_labels(y_prob):\r\n",
        "    return (y_prob>0.5).float()"
      ]
    },
    {
      "cell_type": "code",
      "execution_count": 16,
      "metadata": {
        "id": "I8CwnW0wJlR9"
      },
      "outputs": [],
      "source": [
        "## Training and validating the model ##\n",
        "\n",
        "def train_model(model, train_loader, test_loader, criterion, optimizer, epochs=10):\n",
        "    training_stats = []\n",
        "    template = \"Epoch {} Training loss: {} Test Loss: {} Test Accuracy: {}\"\n",
        "\n",
        "    for epoch in range(1, epochs+1):\n",
        "\n",
        "        # training loop#\n",
        "        model.train()\n",
        "        total_train_loss = 0\n",
        "\n",
        "        for i, (features, labels) in enumerate(train_loader):\n",
        "\n",
        "            features, labels = features.to(device), labels.to(device).view(-1,1)\n",
        "            \n",
        "            # wiping off existing gradients\n",
        "            model.zero_grad()\n",
        "            optimizer.zero_grad()\n",
        "\n",
        "            # predicting and calculating loss function\n",
        "            predictions = model(features)\n",
        "            loss = criterion(predictions, labels)\n",
        "            total_train_loss += loss.item() \n",
        "\n",
        "            # backpropagate and update the weights\n",
        "            loss.backward()\n",
        "            optimizer.step()\n",
        "        \n",
        "        # average loss for the epoch\n",
        "        avg_train_loss = total_train_loss/len(train_loader)\n",
        "\n",
        "        # validation loop#\n",
        "        model.eval()\n",
        "        total_test_loss = 0\n",
        "        total_test_acc =0\n",
        "\n",
        "        for i, (t_features, t_labels) in enumerate(test_loader):\n",
        "\n",
        "            t_features, t_labels = t_features.to(device), t_labels.to(device).view(-1,1)\n",
        "\n",
        "            # no backpropagation\n",
        "            with torch.no_grad():\n",
        "                \n",
        "                # testing the model and calculating loss\n",
        "                t_predictions = model(t_features)\n",
        "                t_loss = criterion(t_predictions, t_labels)\n",
        "\n",
        "\n",
        "            total_test_loss += t_loss.item()\n",
        "            total_test_acc += accuracy(t_labels, t_predictions)\n",
        "\n",
        "        # average loss and accuracy per epoch\n",
        "        avg_test_loss = total_test_loss/len(test_loader)\n",
        "        avg_test_acc = total_test_acc/len(test_loader)\n",
        "        \n",
        "        print(template.format(epoch, avg_train_loss, avg_test_loss, avg_test_acc))\n",
        "\n",
        "        # saving the training statistics\n",
        "        training_stats.append({\n",
        "            \"epoch\": epoch,\n",
        "            \"training_loss\": avg_train_loss,\n",
        "            \"test_loss\": avg_test_loss,\n",
        "            \"test_accuracy\": avg_test_acc\n",
        "\n",
        "        })\n",
        "\n",
        "    return training_stats"
      ]
    },
    {
      "cell_type": "code",
      "execution_count": 17,
      "metadata": {
        "colab": {
          "base_uri": "https://localhost:8080/"
        },
        "id": "zb9ks8rNT56R",
        "outputId": "40e6172f-9c7b-476a-ba35-afd0099e5742"
      },
      "outputs": [
        {
          "name": "stdout",
          "output_type": "stream",
          "text": [
            "Epoch 1 Training loss: 0.12310452694637644 Test Loss: 0.06359963733609766 Test Accuracy: 0.9818125\n",
            "Epoch 2 Training loss: 0.07443431537638734 Test Loss: 0.05972847055457532 Test Accuracy: 0.9843125\n",
            "Epoch 3 Training loss: 0.0638077438334347 Test Loss: 0.040677541759330776 Test Accuracy: 0.9909375\n",
            "Epoch 4 Training loss: 0.05860811255514969 Test Loss: 0.0592120268503204 Test Accuracy: 0.98225\n",
            "Epoch 5 Training loss: 0.05651769333404682 Test Loss: 0.05929796186089516 Test Accuracy: 0.983125\n",
            "Epoch 6 Training loss: 0.05382352590696949 Test Loss: 0.04115504117729142 Test Accuracy: 0.989125\n",
            "Epoch 7 Training loss: 0.05264933697530255 Test Loss: 0.0600165194766596 Test Accuracy: 0.9841875\n",
            "Epoch 8 Training loss: 0.05114637133011364 Test Loss: 0.06674867695197463 Test Accuracy: 0.9815625\n",
            "Epoch 9 Training loss: 0.05036213908316104 Test Loss: 0.07445186608005315 Test Accuracy: 0.9761875\n",
            "Epoch 10 Training loss: 0.04900642605350812 Test Loss: 0.05094794245623052 Test Accuracy: 0.986625\n",
            "Epoch 11 Training loss: 0.047883895634117435 Test Loss: 0.04594870911538601 Test Accuracy: 0.9896875\n",
            "Epoch 12 Training loss: 0.047493072736890234 Test Loss: 0.04392685034149326 Test Accuracy: 0.9891875\n",
            "Epoch 13 Training loss: 0.04615235950851613 Test Loss: 0.04133471721992828 Test Accuracy: 0.9896875\n",
            "Epoch 14 Training loss: 0.045780645399264706 Test Loss: 0.05234028541762382 Test Accuracy: 0.9858125\n",
            "Epoch 15 Training loss: 0.04499726531614907 Test Loss: 0.06109094546083361 Test Accuracy: 0.98325\n",
            "Epoch 16 Training loss: 0.043881967802940125 Test Loss: 0.04349984728568233 Test Accuracy: 0.9903125\n",
            "Epoch 17 Training loss: 0.04433020915767704 Test Loss: 0.05162140131252818 Test Accuracy: 0.98775\n",
            "Epoch 18 Training loss: 0.043208393028206275 Test Loss: 0.04245617453404702 Test Accuracy: 0.9905625\n",
            "Epoch 19 Training loss: 0.0429712685190192 Test Loss: 0.04742355597997084 Test Accuracy: 0.986125\n",
            "Epoch 20 Training loss: 0.04259473841534972 Test Loss: 0.04953709065518342 Test Accuracy: 0.98675\n",
            "Epoch 21 Training loss: 0.04167193681067813 Test Loss: 0.04834983757929876 Test Accuracy: 0.9895\n",
            "Epoch 22 Training loss: 0.04056957805217924 Test Loss: 0.0467185499080224 Test Accuracy: 0.9885\n",
            "Epoch 23 Training loss: 0.0405921121465564 Test Loss: 0.044372178531251846 Test Accuracy: 0.9900625\n"
          ]
        }
      ],
      "source": [
        "# We obtain the learning curve from the model to visualize it \r\n",
        "training_stats = train_model(model, train_loader, test_loader, criterion, optimizer, EPOCHS)"
      ]
    },
    {
      "cell_type": "code",
      "execution_count": 18,
      "metadata": {
        "colab": {
          "base_uri": "https://localhost:8080/",
          "height": 313
        },
        "id": "pFjOMFI4JlR-",
        "outputId": "2063997c-38b3-45d4-c8bf-7366f32b4267"
      },
      "outputs": [
        {
          "data": {
            "text/plain": [
              "<matplotlib.legend.Legend at 0x7fa02e15dd30>"
            ]
          },
          "execution_count": 18,
          "metadata": {
            "tags": []
          },
          "output_type": "execute_result"
        },
        {
          "data": {
            "image/png": "[encoded data removed]",
            "text/plain": [
              "<Figure size 432x288 with 1 Axes>"
            ]
          },
          "metadata": {
            "tags": []
          },
          "output_type": "display_data"
        }
      ],
      "source": [
        "# Plotting the training and validation losses with epochs \r\n",
        "# This is called the model's learning curve\r\n",
        "epochs = [x['epoch'] for x in training_stats]\r\n",
        "training_loss = [x['training_loss'] for x in training_stats]\r\n",
        "testing_loss = [x['test_loss'] for x in training_stats]\r\n",
        "\r\n",
        "fig, ax = plt.subplots()\r\n",
        "ax.set_title(\"Learning curve for the model\")\r\n",
        "ax.set_xlabel(\"Epochs\")\r\n",
        "ax.set_ylabel(\"Loss\")\r\n",
        "ax.plot(epochs, training_loss, c=\"red\", label = \"Training Loss\")\r\n",
        "ax.plot(epochs, testing_loss, c =\"blue\", label=\"Validation Loss\")\r\n",
        "plt.legend()"
      ]
    },
    {
      "cell_type": "code",
      "execution_count": 19,
      "metadata": {
        "colab": {
          "base_uri": "https://localhost:8080/"
        },
        "id": "1WMK8Z9IJlR-",
        "outputId": "3d91c0a0-ea2e-43c3-a853-363c963a6f70"
      },
      "outputs": [
        {
          "name": "stdout",
          "output_type": "stream",
          "text": [
            "precision    recall  f1-score   support\n",
            "\n",
            "         0.0       1.00      0.99      0.99     14955\n",
            "         1.0       0.91      0.95      0.93      1045\n",
            "\n",
            "    accuracy                           0.99     16000\n",
            "   macro avg       0.95      0.97      0.96     16000\n",
            "weighted avg       0.99      0.99      0.99     16000\n",
            "\n",
            "F1 score: 0.9901597409360857\n"
          ]
        }
      ],
      "source": [
        "# predict on test data using the model and calculate metrics\r\n",
        "y_pred = to_labels(model(test_ds[:][0].to(device))).detach().to('cpu').numpy()\r\n",
        "y_test = test_ds[:][1].cpu().numpy()\r\n",
        "\r\n",
        "print(classification_report(y_test, y_pred))\r\n",
        "print(\"F1 score: {}\".format(f1_score(y_test, y_pred, average=\"weighted\")))"
      ]
    },
    {
      "cell_type": "code",
      "execution_count": 20,
      "metadata": {
        "colab": {
          "base_uri": "https://localhost:8080/"
        },
        "id": "SwaduztdJlR_",
        "outputId": "6f9d0e7a-e354-4806-a0d6-51c5bd211fab"
      },
      "outputs": [
        {
          "name": "stderr",
          "output_type": "stream",
          "text": [
            "/usr/local/lib/python3.6/dist-packages/sklearn/utils/deprecation.py:87: FutureWarning: Function safe_indexing is deprecated; safe_indexing is deprecated in version 0.22 and will be removed in version 0.24.\n",
            "  warnings.warn(msg, category=FutureWarning)\n",
            "/usr/local/lib/python3.6/dist-packages/sklearn/utils/deprecation.py:87: FutureWarning: Function safe_indexing is deprecated; safe_indexing is deprecated in version 0.22 and will be removed in version 0.24.\n",
            "  warnings.warn(msg, category=FutureWarning)\n"
          ]
        },
        {
          "name": "stdout",
          "output_type": "stream",
          "text": [
            "Epoch 1 Training loss: 0.0744083132151869 Test Loss: 0.055704201086889955 Test Accuracy: 0.9845625\n",
            "Epoch 2 Training loss: 0.0801643391642475 Test Loss: 0.05077591909165494 Test Accuracy: 0.9871875\n",
            "Epoch 3 Training loss: 0.05354492941281143 Test Loss: 0.054174045846797525 Test Accuracy: 0.985875\n",
            "Epoch 4 Training loss: 0.07426278310550313 Test Loss: 0.04624743463587947 Test Accuracy: 0.9879375\n",
            "Epoch 5 Training loss: 0.05089039380027951 Test Loss: 0.049202135943807665 Test Accuracy: 0.9871875\n",
            "Epoch 6 Training loss: 0.07769690306572404 Test Loss: 0.0437684197362978 Test Accuracy: 0.9886875\n",
            "Epoch 7 Training loss: 0.04654765852936035 Test Loss: 0.04290651250304654 Test Accuracy: 0.9888125\n",
            "Epoch 8 Training loss: 0.04466243230747717 Test Loss: 0.04587507486715913 Test Accuracy: 0.9883125\n",
            "Epoch 9 Training loss: 0.04208224283793989 Test Loss: 0.04410460187541321 Test Accuracy: 0.9893125\n",
            "Epoch 10 Training loss: 0.045971474436796736 Test Loss: 0.04404268177319318 Test Accuracy: 0.989125\n",
            "Epoch 11 Training loss: 0.03720981157236622 Test Loss: 0.041017291166586804 Test Accuracy: 0.989875\n",
            "Epoch 12 Training loss: 0.036685990884677507 Test Loss: 0.03972005337080918 Test Accuracy: 0.9903125\n",
            "Epoch 13 Training loss: 0.037019745171616186 Test Loss: 0.039592455924954265 Test Accuracy: 0.99025\n",
            "Epoch 14 Training loss: 0.049167474550428185 Test Loss: 0.03811070111440495 Test Accuracy: 0.99075\n",
            "Epoch 15 Training loss: 0.05813876321399029 Test Loss: 0.03860963135957718 Test Accuracy: 0.990625\n",
            "Epoch 16 Training loss: 0.041935589431862014 Test Loss: 0.03688747634901665 Test Accuracy: 0.9909375\n",
            "Epoch 17 Training loss: 0.042244830726496166 Test Loss: 0.0401925596119836 Test Accuracy: 0.989625\n",
            "Epoch 18 Training loss: 0.0638404818094963 Test Loss: 0.040111210793023926 Test Accuracy: 0.9901875\n",
            "Epoch 19 Training loss: 0.03738499977372078 Test Loss: 0.03846903995680623 Test Accuracy: 0.9901875\n",
            "Epoch 20 Training loss: 0.052042427747447446 Test Loss: 0.03895867583691143 Test Accuracy: 0.9899375\n",
            "Epoch 21 Training loss: 0.040299561585135805 Test Loss: 0.038098130140220746 Test Accuracy: 0.9901875\n",
            "Epoch 22 Training loss: 0.04504860325221747 Test Loss: 0.0363957892190665 Test Accuracy: 0.9908125\n",
            "Epoch 23 Training loss: 0.045473352312467186 Test Loss: 0.03916766990348697 Test Accuracy: 0.990625\n"
          ]
        }
      ],
      "source": [
        "## Now we train the model on the complete dataset before giving test outputs\r\n",
        "## Re-run cell where model is defined and compiled  before running this cell to create a fresh model\r\n",
        "\r\n",
        "# Preprocessing step\r\n",
        "X_train, X_test, y_train, y_test = final_cleaned(resample_method=\"smote\")\r\n",
        "X_total = pd.concat([X_train,X_test], axis=0, ignore_index=True)\r\n",
        "y_total = pd.concat([y_train,y_test], axis=0, ignore_index=True)\r\n",
        "\r\n",
        "# Data Loading \r\n",
        "full_ds = CSVData(X_total, y_total, train=True, preprocess=True)\r\n",
        "full_loader = DataLoader(dataset=full_ds, batch_size=BATCH_SIZE)\r\n",
        "\r\n",
        "# here test dataset is a part of train dataset itself and just acts as a dummy \r\n",
        "test_ds2 = CSVData(X_test, y_test,train=False, transform=full_ds.transform)\r\n",
        "test_loader2 = DataLoader(dataset=test_ds2, batch_size=BATCH_SIZE)\r\n",
        "\r\n",
        "# initiate a model to train on the entire data for prediction\r\n",
        "full_model = FraudModel()\r\n",
        "full_model.to(device)\r\n",
        "\r\n",
        "# select an optimizer and loss \r\n",
        "optimizer2 = torch.optim.Adam(full_model.parameters(), lr=lr)\r\n",
        "criterion2 = nn.BCELoss()\r\n",
        "\r\n",
        "_ = train_model(full_model, full_loader, test_loader2, criterion2, optimizer2, EPOCHS)"
      ]
    },
    {
      "cell_type": "code",
      "execution_count": 21,
      "metadata": {
        "id": "NP_mv4OkTtHn"
      },
      "outputs": [],
      "source": [
        "## save the model and the transforms ##\r\n",
        "torch.save(full_model,\"IDAModel.pth\")\r\n",
        "pkl.dump(full_ds.transform, open(\"dl_transform.pkl\",\"wb\"))"
      ]
    },
    {
      "cell_type": "code",
      "execution_count": 9,
      "metadata": {
        "id": "8XsuL-PjTxh5"
      },
      "outputs": [],
      "source": [
        "## predicting on the actual test data ##\r\n",
        "model_path = r\"final_results\\IDAModel.pth\"\r\n",
        "transform_path = r\"final_results\\dl_transform.pkl\"\r\n",
        "test_x_path = r\"org_data\\test_x.csv\"\r\n",
        "\r\n",
        "def encode(df):\r\n",
        "    for i in range(len(df)):\r\n",
        "        cell = df['Loan type'].iloc[i]\r\n",
        "        if cell == 'A':\r\n",
        "            df['Loan type'].iloc[i] = 0\r\n",
        "        elif cell == 'B':\r\n",
        "            df['Loan type'].iloc[i] = 1\r\n",
        "        \r\n",
        "    for i in range(len(df)):\r\n",
        "        cell = df['Occupation type'].iloc[i]\r\n",
        "        if cell == 'X':\r\n",
        "            df['Occupation type'].iloc[i] = 0\r\n",
        "        elif cell == 'Y':\r\n",
        "            df['Occupation type'].iloc[i] = 1\r\n",
        "        elif cell == 'Z':\r\n",
        "            df['Occupation type'].iloc[i] = 2\r\n",
        "\r\n",
        "\r\n",
        "def predict(test_x_path, model_path, transform_path, save_path=None):\r\n",
        "    \"\"\"Predicts model ouput on new data\r\n",
        "\r\n",
        "    Args:\r\n",
        "        test_x_path (str): path of new data in .csv format\r\n",
        "        model_path (str): path of model stored in .pth format\r\n",
        "        transform_path (str): path of the transform stored in .pkl format\r\n",
        "        save_path (str, optional): path to save the output .csv file. Defaults to None.\r\n",
        "\r\n",
        "    Returns:\r\n",
        "        pd.DataFrame: output labels for new data\r\n",
        "    \"\"\"\r\n",
        "\r\n",
        "    transform = pkl.load(open(transform_path,\"rb\"))\r\n",
        "\r\n",
        "    device = torch.device(\"cuda:0\" if torch.cuda.is_available() else \"cpu\") \r\n",
        "    model = torch.load(model_path)\r\n",
        "    model.to(device)\r\n",
        "\r\n",
        "    # a bit of preprocessing required\r\n",
        "    test_x = pd.read_csv(test_x_path)\r\n",
        "    encode(test_x)\r\n",
        "    test_x.drop(columns=\"ID_Test\", inplace=True)\r\n",
        "\r\n",
        "    categorical_cols = [\"Loan type\",\"Occupation type\",\"Age\"]\r\n",
        "    test_x[categorical_cols] = test_x[categorical_cols].astype(object)\r\n",
        "\r\n",
        "    dummy_y = pd.DataFrame(np.zeros(shape=(len(test_x),1)))\r\n",
        "\r\n",
        "    test_data = CSVData(test_x,dummy_y, train=False, preprocess=True, transform=transform)\r\n",
        "\r\n",
        "    y_pred = to_labels(model(test_data[:][0].to(device))).detach().to('cpu').numpy()\r\n",
        "   \r\n",
        "    results = pd.DataFrame(y_pred)\r\n",
        "\r\n",
        "    # Uncomment the line below if results are to be saved in a csv file\r\n",
        "    results.to_csv(save_path, index=False)\r\n",
        "\r\n",
        "    return results   "
      ]
    },
    {
      "cell_type": "code",
      "execution_count": 10,
      "metadata": {
        "colab": {
          "base_uri": "https://localhost:8080/"
        },
        "id": "gpdJyXVbJ2_L",
        "outputId": "8f631c1b-b57d-45a2-b6c6-550c8a6d0a47"
      },
      "outputs": [],
      "source": [
        "results = predict(test_x_path,model_path, transform_path,\"results.csv\")"
      ]
    },
    {
      "cell_type": "code",
      "execution_count": 1,
      "metadata": {},
      "outputs": [],
      "source": [
        "### TO GET THE PROBABILITY OF PREDICTIONS \n",
        "\n",
        "# y_prob = (model(test_data[:][0].to(device))).detach().to('cpu').numpy()\n",
        "# probs = pd.DataFrame(y_prob)\n",
        "# probs.to_csv('DL_prob_predictions', index=False)"
      ]
    },
    {
      "cell_type": "code",
      "execution_count": null,
      "metadata": {},
      "outputs": [],
      "source": []
    }
  ],
  "metadata": {
    "accelerator": "GPU",
    "colab": {
      "collapsed_sections": [],
      "name": "modelling_dl.ipynb",
      "provenance": []
    },
    "kernelspec": {
      "display_name": "Python 3",
      "name": "python3",
      "language": "python"
    },
    "language_info": {
      "codemirror_mode": {
        "name": "ipython",
        "version": 3
      },
      "file_extension": ".py",
      "mimetype": "text/x-python",
      "name": "python",
      "nbconvert_exporter": "python",
      "pygments_lexer": "ipython3",
      "version": "3.8.3-final"
    },
    "orig_nbformat": 2
  },
  "nbformat": 4,
  "nbformat_minor": 0
}